{
 "cells": [
  {
   "cell_type": "code",
   "execution_count": 33,
   "metadata": {},
   "outputs": [],
   "source": [
    "import os\n",
    "import numpy as np\n",
    "import sys\n",
    "import torch\n",
    "sys.path.append('../')\n",
    "import config\n",
    "import pandas as pd\n",
    "import pyreadr\n",
    "import pickle"
   ]
  },
  {
   "cell_type": "code",
   "execution_count": 34,
   "metadata": {},
   "outputs": [],
   "source": [
    "cfg = config.config_dict\n",
    "PICKLES_DIR = cfg['PICKLES_DIR']"
   ]
  },
  {
   "cell_type": "code",
   "execution_count": 35,
   "metadata": {},
   "outputs": [],
   "source": [
    "# probs_pickle_filename = '1.0_probs.pickle'\n",
    "# labels_pickle_filename = '1.0_labels.pickle'\n",
    "probs_pickle_filename = '1.0_combined_probs.pickle'\n",
    "labels_pickle_filename = '1.0_combined_labels.pickle'\n",
    "probs_pickle_filepath = os.path.join(PICKLES_DIR, probs_pickle_filename)\n",
    "labels_pickle_filepath = os.path.join(PICKLES_DIR, labels_pickle_filename)"
   ]
  },
  {
   "cell_type": "code",
   "execution_count": 36,
   "metadata": {},
   "outputs": [],
   "source": [
    "with open(probs_pickle_filepath, 'rb') as handle:\n",
    "    probs = pickle.load(handle)\n",
    "with open(labels_pickle_filepath, 'rb') as handle:\n",
    "    labels = pickle.load(handle)"
   ]
  },
  {
   "cell_type": "code",
   "execution_count": 37,
   "metadata": {},
   "outputs": [],
   "source": [
    "# for prob in probs:\n",
    "#     result = np.argmax(prob)\n",
    "#     print(result, prob[result])\n",
    "# print(len(probs))"
   ]
  },
  {
   "cell_type": "code",
   "execution_count": 38,
   "metadata": {},
   "outputs": [
    {
     "name": "stdout",
     "output_type": "stream",
     "text": [
      "[1.62381511e-05 4.94941510e-03 9.03149485e-04 5.44928616e-06\n",
      " 4.17229103e-06 2.73812518e-11 2.82437419e-15 4.54167631e-16\n",
      " 6.04708061e-09 5.36121490e-07 1.03751585e-08 2.77251365e-05\n",
      " 6.12012698e-08 2.69011116e-06 2.46614862e-14 2.71157263e-11\n",
      " 2.41032583e-10 2.20812032e-11 1.11294365e-04 9.96138241e-12\n",
      " 9.90933477e-14 3.19076316e-05 8.42518239e-06 1.89806423e-13\n",
      " 1.51951645e-05 1.02876030e-09 4.34380266e-12 7.76307629e-10\n",
      " 1.15264208e-10 9.79487481e-07 8.13505166e-12 4.05925306e-07\n",
      " 9.01898820e-05 2.15594966e-07 9.54671443e-01 2.15554451e-07\n",
      " 1.59938354e-04 4.57377126e-03 9.40434984e-06 3.89465349e-05\n",
      " 3.42404819e-03 8.70931800e-03 6.98341546e-06 5.83568135e-15\n",
      " 1.31229071e-05 1.45335300e-15 1.46371537e-08 7.52897620e-08\n",
      " 3.78504956e-06 1.68876664e-12 2.58675928e-11 3.37907721e-07\n",
      " 1.43136447e-07 1.45539268e-14 1.46636939e-05 1.59318301e-06\n",
      " 1.07532934e-07 7.50283959e-07 1.61776756e-04 1.21167886e-07\n",
      " 1.54570486e-07 1.82291359e-07 7.05774550e-10 1.92461457e-13\n",
      " 2.20350139e-02 2.81159407e-14 4.55075423e-07 2.57858606e-08\n",
      " 1.44201995e-09 1.15636634e-09 1.00172353e-13 6.10929533e-07\n",
      " 6.18337256e-11 3.41677966e-13 1.96341318e-07 1.90916618e-14\n",
      " 7.11898932e-18 4.35045786e-06 4.56048647e-20 2.69335648e-11\n",
      " 6.35412212e-09 7.12871212e-12 1.89961913e-08 1.48564368e-07\n",
      " 1.13573888e-08 2.90895228e-16 2.78827690e-11 9.74571435e-22\n",
      " 1.69697056e-09 1.04233191e-08 1.99099244e-08] GBM, G34\n"
     ]
    }
   ],
   "source": [
    "print(probs[0], labels[0])"
   ]
  },
  {
   "cell_type": "code",
   "execution_count": 39,
   "metadata": {},
   "outputs": [
    {
     "name": "stdout",
     "output_type": "stream",
     "text": [
      "(91,)\n"
     ]
    }
   ],
   "source": [
    "print(probs[0].shape)"
   ]
  }
 ],
 "metadata": {
  "interpreter": {
   "hash": "f1a95063673afb40ff742ea38932ca37761c5e5b95ffd28e8b29d2c50499cde7"
  },
  "kernelspec": {
   "display_name": "Python 3.8.5 ('base')",
   "language": "python",
   "name": "python3"
  },
  "language_info": {
   "codemirror_mode": {
    "name": "ipython",
    "version": 3
   },
   "file_extension": ".py",
   "mimetype": "text/x-python",
   "name": "python",
   "nbconvert_exporter": "python",
   "pygments_lexer": "ipython3",
   "version": "3.8.5"
  },
  "orig_nbformat": 4
 },
 "nbformat": 4,
 "nbformat_minor": 2
}
