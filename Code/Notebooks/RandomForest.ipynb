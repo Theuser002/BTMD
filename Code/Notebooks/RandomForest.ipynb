{
 "cells": [
  {
   "cell_type": "code",
   "execution_count": 3,
   "metadata": {},
   "outputs": [],
   "source": [
    "import os\n",
    "import sys\n",
    "sys.path.append('../Python/')\n",
    "import config\n",
    "import utils\n",
    "import sklearn\n",
    "\n",
    "from utils import make_ndarray_from_csv\n",
    "from sklearn.ensemble import RandomForestClassifier"
   ]
  },
  {
   "cell_type": "code",
   "execution_count": 2,
   "metadata": {},
   "outputs": [
    {
     "data": {
      "text/plain": [
       "((2801, 10000), (2801,))"
      ]
     },
     "execution_count": 2,
     "metadata": {},
     "output_type": "execute_result"
    }
   ],
   "source": [
    "fold = '1.0'\n",
    "features, labels = make_ndarray_from_csv(fold, mode = 'all')\n",
    "features.shape, labels.shape"
   ]
  },
  {
   "cell_type": "code",
   "execution_count": 20,
   "metadata": {},
   "outputs": [],
   "source": [
    "clf = RandomForestClassifier(max_depth = None, criterion = 'gini', oob_score= True, random_state = 42)\n",
    "his = clf.fit(features, labels)"
   ]
  },
  {
   "cell_type": "code",
   "execution_count": 21,
   "metadata": {},
   "outputs": [
    {
     "data": {
      "text/plain": [
       "(10000,\n",
       " 91,\n",
       " array(['A IDH', 'A IDH, HG', 'ANA PA', 'ATRT, MYC', 'ATRT, SHH',\n",
       "        'ATRT, TYR', 'CHGL', 'CHORDM', 'CN', 'CNS NB, FOXR2',\n",
       "        'CONTR, ADENOPIT', 'CONTR, CEBM', 'CONTR, HEMI', 'CONTR, HYPTHAL',\n",
       "        'CONTR, INFLAM', 'CONTR, PINEAL', 'CONTR, PONS', 'CONTR, REACT',\n",
       "        'CONTR, WM', 'CPH, ADM', 'CPH, PAP', 'DLGNT', 'DMG, K27',\n",
       "        'EFT, CIC', 'ENB, A', 'ENB, B', 'EPN, MPE', 'EPN, PF A',\n",
       "        'EPN, PF B', 'EPN, RELA', 'EPN, SPINE', 'EPN, YAP', 'ETMR', 'EWS',\n",
       "        'GBM, G34', 'GBM, MES', 'GBM, MID', 'GBM, MYCN', 'GBM, RTK I',\n",
       "        'GBM, RTK II', 'GBM, RTK III', 'HGNET, BCOR', 'HGNET, MN1', 'HMB',\n",
       "        'IHG', 'LGG, DIG/DIA', 'LGG, DNT', 'LGG, GG', 'LGG, MYB',\n",
       "        'LGG, PA MID', 'LGG, PA PF', 'LGG, PA/GG ST', 'LGG, RGNT',\n",
       "        'LGG, SEGA', 'LIPN', 'LYMPHO', 'MB, G3', 'MB, G4',\n",
       "        'MB, SHH CHL AD', 'MB, SHH INF', 'MB, WNT', 'MELAN', 'MELCYT',\n",
       "        'MNG', 'O IDH', 'PGG, nC', 'PIN T,  PB A', 'PIN T,  PB B',\n",
       "        'PIN T, PPT', 'PITAD, ACTH', 'PITAD, FSH LH', 'PITAD, PRL',\n",
       "        'PITAD, STH DNS A', 'PITAD, STH DNS B', 'PITAD, STH SPA',\n",
       "        'PITAD, TSH', 'PITUI', 'PLASMA', 'PLEX, AD', 'PLEX, PED A ',\n",
       "        'PLEX, PED B', 'PTPR, A', 'PTPR, B', 'PXA', 'RETB', 'SCHW',\n",
       "        'SCHW, MEL', 'SFT HMPC', 'SUBEPN, PF', 'SUBEPN, SPINE',\n",
       "        'SUBEPN, ST'], dtype=object))"
      ]
     },
     "execution_count": 21,
     "metadata": {},
     "output_type": "execute_result"
    }
   ],
   "source": [
    "his.n_features_in_, his.n_classes_, his.classes_"
   ]
  },
  {
   "cell_type": "code",
   "execution_count": 22,
   "metadata": {},
   "outputs": [
    {
     "data": {
      "text/plain": [
       "(array([1.04165447e-04, 3.99555579e-05, 1.09398041e-05, ...,\n",
       "        1.68510186e-05, 4.10267208e-05, 2.71741581e-04]),\n",
       " (10000,),\n",
       " 1)"
      ]
     },
     "execution_count": 22,
     "metadata": {},
     "output_type": "execute_result"
    }
   ],
   "source": [
    "his.feature_importances_, his.feature_importances_.shape, his.n_outputs_"
   ]
  },
  {
   "cell_type": "code",
   "execution_count": 23,
   "metadata": {},
   "outputs": [
    {
     "data": {
      "text/plain": [
       "0.9393073902177793"
      ]
     },
     "execution_count": 23,
     "metadata": {},
     "output_type": "execute_result"
    }
   ],
   "source": [
    "his.oob_score_"
   ]
  }
 ],
 "metadata": {
  "interpreter": {
   "hash": "f1a95063673afb40ff742ea38932ca37761c5e5b95ffd28e8b29d2c50499cde7"
  },
  "kernelspec": {
   "display_name": "Python 3.8.5 ('base')",
   "language": "python",
   "name": "python3"
  },
  "language_info": {
   "codemirror_mode": {
    "name": "ipython",
    "version": 3
   },
   "file_extension": ".py",
   "mimetype": "text/x-python",
   "name": "python",
   "nbconvert_exporter": "python",
   "pygments_lexer": "ipython3",
   "version": "3.8.5"
  },
  "orig_nbformat": 4
 },
 "nbformat": 4,
 "nbformat_minor": 2
}
