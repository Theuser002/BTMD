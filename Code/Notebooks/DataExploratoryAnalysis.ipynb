{
 "cells": [
  {
   "cell_type": "code",
   "execution_count": 1,
   "metadata": {},
   "outputs": [],
   "source": [
    "import os\n",
    "import sys\n",
    "sys.path.append('../Python/')\n",
    "import config\n",
    "import utils\n",
    "import numpy as np\n",
    "import pandas as pd\n",
    "import matplotlib.pyplot as plt\n",
    "import collections\n",
    "import seaborn as sns\n",
    "import imblearn\n",
    "\n",
    "from utils import make_ndarray_from_csv, get_int_label\n",
    "from collections import Counter, OrderedDict\n",
    "from matplotlib import rcParams\n",
    "from imblearn.over_sampling import SMOTE, RandomOverSampler"
   ]
  },
  {
   "cell_type": "markdown",
   "metadata": {},
   "source": [
    "## Config"
   ]
  },
  {
   "cell_type": "code",
   "execution_count": 2,
   "metadata": {},
   "outputs": [],
   "source": [
    "# Change option so that pandas always display all rows of the dataframe\n",
    "pd.set_option('display.max_rows', None)"
   ]
  },
  {
   "cell_type": "code",
   "execution_count": 3,
   "metadata": {},
   "outputs": [],
   "source": [
    "TAKE_MINOR_AT = 26\n",
    "fold = '1.0'"
   ]
  },
  {
   "cell_type": "markdown",
   "metadata": {},
   "source": [
    "## Count number of samples for each class"
   ]
  },
  {
   "cell_type": "code",
   "execution_count": 4,
   "metadata": {},
   "outputs": [
    {
     "data": {
      "text/plain": [
       "((2204, 10000), (2204,))"
      ]
     },
     "execution_count": 4,
     "metadata": {},
     "output_type": "execute_result"
    }
   ],
   "source": [
    "features, labels = make_ndarray_from_csv(fold, mode = 'train')\n",
    "features.shape, labels.shape"
   ]
  },
  {
   "cell_type": "code",
   "execution_count": 5,
   "metadata": {},
   "outputs": [],
   "source": [
    "labels_count = Counter(labels)"
   ]
  },
  {
   "cell_type": "code",
   "execution_count": 6,
   "metadata": {},
   "outputs": [
    {
     "name": "stdout",
     "output_type": "stream",
     "text": [
      "Counter({'GBM, RTK II': 114, 'MB, G4': 110, 'LGG, PA PF': 91, 'EPN, PF A': 72, 'MNG': 72, 'MB, SHH CHL AD': 67, 'O IDH': 64, 'DMG, K27': 62, 'A IDH': 62, 'MB, G3': 61, 'EPN, RELA': 56, 'GBM, RTK I': 51, 'GBM, MES': 44, 'MB, SHH INF': 41, 'EPN, PF B': 40, 'ATRT, SHH': 36, 'A IDH, HG': 36, 'PLEX, PED B': 36, 'PXA': 35, 'LGG, DNT': 35, 'ETMR': 34, 'GBM, G34': 32, 'MB, WNT': 31, 'CNS NB, FOXR2': 31, 'LGG, PA MID': 30, 'ATRT, TYR': 29, 'SUBEPN, PF': 29, 'ATRT, MYC': 23, 'PITUI': 23, 'EPN, MPE': 22, 'EPN, SPINE': 21, 'HMB': 20, 'CPH, ADM': 20, 'LGG, PA/GG ST': 19, 'CONTR, INFLAM': 19, 'CONTR, REACT': 18, 'HGNET, BCOR': 18, 'SCHW': 18, 'ENB, A': 18, 'LGG, MYB': 17, 'PIN T,  PB B': 17, 'PTPR, B': 17, 'PLEX, AD': 17, 'HGNET, MN1': 16, 'LGG, SEGA': 16, 'CN': 16, 'CPH, PAP': 16, 'LGG, GG': 16, 'PITAD, FSH LH': 16, 'ANA PA': 16, 'SUBEPN, ST': 15, 'PIN T, PPT': 15, 'PGG, nC': 15, 'RETB': 15, 'PITAD, ACTH': 14, 'PITAD, STH SPA': 13, 'GBM, MYCN': 12, 'ENB, B': 12, 'SFT HMPC': 12, 'MELCYT': 12, 'PLEX, PED A ': 12, 'GBM, MID': 11, 'EWS': 11, 'EFT, CIC': 10, 'LYMPHO': 10, 'CONTR, HEMI': 10, 'GBM, RTK III': 10, 'CHGL': 9, 'MELAN': 9, 'CONTR, PINEAL': 9, 'PITAD, STH DNS B': 9, 'CONTR, PONS': 9, 'EPN, YAP': 8, 'LIPN': 8, 'IHG': 8, 'PITAD, TSH': 8, 'PIN T,  PB A': 7, 'SUBEPN, SPINE': 7, 'LGG, RGNT': 7, 'CONTR, ADENOPIT': 7, 'PITAD, STH DNS A': 7, 'CONTR, WM': 7, 'CHORDM': 7, 'CONTR, HYPTHAL': 7, 'CONTR, CEBM': 6, 'PTPR, A': 6, 'DLGNT': 6, 'PITAD, PRL': 6, 'SCHW, MEL': 6, 'LGG, DIG/DIA': 6, 'PLASMA': 6})\n"
     ]
    }
   ],
   "source": [
    "print(labels_count)"
   ]
  },
  {
   "cell_type": "code",
   "execution_count": 7,
   "metadata": {},
   "outputs": [
    {
     "name": "stdout",
     "output_type": "stream",
     "text": [
      "OrderedDict([('GBM, RTK II', 114), ('MB, G4', 110), ('LGG, PA PF', 91), ('EPN, PF A', 72), ('MNG', 72), ('MB, SHH CHL AD', 67), ('O IDH', 64), ('DMG, K27', 62), ('A IDH', 62), ('MB, G3', 61), ('EPN, RELA', 56), ('GBM, RTK I', 51), ('GBM, MES', 44), ('MB, SHH INF', 41), ('EPN, PF B', 40), ('ATRT, SHH', 36), ('A IDH, HG', 36), ('PLEX, PED B', 36), ('PXA', 35), ('LGG, DNT', 35), ('ETMR', 34), ('GBM, G34', 32), ('MB, WNT', 31), ('CNS NB, FOXR2', 31), ('LGG, PA MID', 30), ('ATRT, TYR', 29), ('SUBEPN, PF', 29), ('ATRT, MYC', 23), ('PITUI', 23), ('EPN, MPE', 22), ('EPN, SPINE', 21), ('HMB', 20), ('CPH, ADM', 20), ('LGG, PA/GG ST', 19), ('CONTR, INFLAM', 19), ('CONTR, REACT', 18), ('HGNET, BCOR', 18), ('SCHW', 18), ('ENB, A', 18), ('LGG, MYB', 17), ('PIN T,  PB B', 17), ('PTPR, B', 17), ('PLEX, AD', 17), ('HGNET, MN1', 16), ('LGG, SEGA', 16), ('CN', 16), ('CPH, PAP', 16), ('LGG, GG', 16), ('PITAD, FSH LH', 16), ('ANA PA', 16), ('SUBEPN, ST', 15), ('PIN T, PPT', 15), ('PGG, nC', 15), ('RETB', 15), ('PITAD, ACTH', 14), ('PITAD, STH SPA', 13), ('GBM, MYCN', 12), ('ENB, B', 12), ('SFT HMPC', 12), ('MELCYT', 12), ('PLEX, PED A ', 12), ('GBM, MID', 11), ('EWS', 11), ('EFT, CIC', 10), ('LYMPHO', 10), ('CONTR, HEMI', 10), ('GBM, RTK III', 10), ('CHGL', 9), ('MELAN', 9), ('CONTR, PINEAL', 9), ('PITAD, STH DNS B', 9), ('CONTR, PONS', 9), ('EPN, YAP', 8), ('LIPN', 8), ('IHG', 8), ('PITAD, TSH', 8), ('PIN T,  PB A', 7), ('SUBEPN, SPINE', 7), ('LGG, RGNT', 7), ('CONTR, ADENOPIT', 7), ('PITAD, STH DNS A', 7), ('CONTR, WM', 7), ('CHORDM', 7), ('CONTR, HYPTHAL', 7), ('CONTR, CEBM', 6), ('PTPR, A', 6), ('DLGNT', 6), ('PITAD, PRL', 6), ('SCHW, MEL', 6), ('LGG, DIG/DIA', 6), ('PLASMA', 6)])\n"
     ]
    }
   ],
   "source": [
    "sorted_labels_count = OrderedDict(labels_count.most_common())\n",
    "print(sorted_labels_count)"
   ]
  },
  {
   "cell_type": "code",
   "execution_count": 8,
   "metadata": {},
   "outputs": [
    {
     "name": "stdout",
     "output_type": "stream",
     "text": [
      "   methylation_class  samples\n",
      "0        GBM, RTK II      114\n",
      "1             MB, G4      110\n",
      "2         LGG, PA PF       91\n",
      "3          EPN, PF A       72\n",
      "4                MNG       72\n",
      "5     MB, SHH CHL AD       67\n",
      "6              O IDH       64\n",
      "7           DMG, K27       62\n",
      "8              A IDH       62\n",
      "9             MB, G3       61\n",
      "10         EPN, RELA       56\n",
      "11        GBM, RTK I       51\n",
      "12          GBM, MES       44\n",
      "13       MB, SHH INF       41\n",
      "14         EPN, PF B       40\n",
      "15         ATRT, SHH       36\n",
      "16         A IDH, HG       36\n",
      "17       PLEX, PED B       36\n",
      "18               PXA       35\n",
      "19          LGG, DNT       35\n",
      "20              ETMR       34\n",
      "21          GBM, G34       32\n",
      "22           MB, WNT       31\n",
      "23     CNS NB, FOXR2       31\n",
      "24       LGG, PA MID       30\n",
      "25         ATRT, TYR       29\n",
      "26        SUBEPN, PF       29\n",
      "27         ATRT, MYC       23\n",
      "28             PITUI       23\n",
      "29          EPN, MPE       22\n",
      "30        EPN, SPINE       21\n",
      "31               HMB       20\n",
      "32          CPH, ADM       20\n",
      "33     LGG, PA/GG ST       19\n",
      "34     CONTR, INFLAM       19\n",
      "35      CONTR, REACT       18\n",
      "36       HGNET, BCOR       18\n",
      "37              SCHW       18\n",
      "38            ENB, A       18\n",
      "39          LGG, MYB       17\n",
      "40      PIN T,  PB B       17\n",
      "41           PTPR, B       17\n",
      "42          PLEX, AD       17\n",
      "43        HGNET, MN1       16\n",
      "44         LGG, SEGA       16\n",
      "45                CN       16\n",
      "46          CPH, PAP       16\n",
      "47           LGG, GG       16\n",
      "48     PITAD, FSH LH       16\n",
      "49            ANA PA       16\n",
      "50        SUBEPN, ST       15\n",
      "51        PIN T, PPT       15\n",
      "52           PGG, nC       15\n",
      "53              RETB       15\n",
      "54       PITAD, ACTH       14\n",
      "55    PITAD, STH SPA       13\n",
      "56         GBM, MYCN       12\n",
      "57            ENB, B       12\n",
      "58          SFT HMPC       12\n",
      "59            MELCYT       12\n",
      "60      PLEX, PED A        12\n",
      "61          GBM, MID       11\n",
      "62               EWS       11\n",
      "63          EFT, CIC       10\n",
      "64            LYMPHO       10\n",
      "65       CONTR, HEMI       10\n",
      "66      GBM, RTK III       10\n",
      "67              CHGL        9\n",
      "68             MELAN        9\n",
      "69     CONTR, PINEAL        9\n",
      "70  PITAD, STH DNS B        9\n",
      "71       CONTR, PONS        9\n",
      "72          EPN, YAP        8\n",
      "73              LIPN        8\n",
      "74               IHG        8\n",
      "75        PITAD, TSH        8\n",
      "76      PIN T,  PB A        7\n",
      "77     SUBEPN, SPINE        7\n",
      "78         LGG, RGNT        7\n",
      "79   CONTR, ADENOPIT        7\n",
      "80  PITAD, STH DNS A        7\n",
      "81         CONTR, WM        7\n",
      "82            CHORDM        7\n",
      "83    CONTR, HYPTHAL        7\n",
      "84       CONTR, CEBM        6\n",
      "85           PTPR, A        6\n",
      "86             DLGNT        6\n",
      "87        PITAD, PRL        6\n",
      "88         SCHW, MEL        6\n",
      "89      LGG, DIG/DIA        6\n",
      "90            PLASMA        6\n"
     ]
    }
   ],
   "source": [
    "df = pd.DataFrame.from_dict(sorted_labels_count, orient='index').reset_index()\n",
    "df = df.rename(columns = {'index':'methylation_class', 0:'samples'})\n",
    "print(df.to_string())\n",
    "# df"
   ]
  },
  {
   "cell_type": "markdown",
   "metadata": {},
   "source": [
    "## Visualization"
   ]
  },
  {
   "cell_type": "code",
   "execution_count": 9,
   "metadata": {},
   "outputs": [
    {
     "name": "stdout",
     "output_type": "stream",
     "text": [
      "(2204,) (91,)\n"
     ]
    }
   ],
   "source": [
    "classes = np.array(df.iloc[:,0])\n",
    "n_samples = np.array(df.iloc[:,-1])\n",
    "counts = df['methylation_class'].value_counts().reset_index(name = 'samples')\n",
    "print(labels.shape, n_samples.shape)"
   ]
  },
  {
   "cell_type": "code",
   "execution_count": 10,
   "metadata": {},
   "outputs": [
    {
     "data": {
      "image/png": "[encoded data removed]",
      "text/html": [
       "<div style=\"vertical-align: middle;\"><strong>viridis</strong> </div><div class=\"cmap\"><img alt=\"viridis colormap\" title=\"viridis\" style=\"border: 1px solid #555;\" src=\"data:image/png;base64,iVBORw0KGgoAAAANSUhEUgAAAgAAAABACAYAAABsv8+/AAAAFnRFWHRUaXRsZQB2aXJpZGlzIGNvbG9ybWFwrE0mCwAAABx0RVh0RGVzY3JpcHRpb24AdmlyaWRpcyBjb2xvcm1hcAtjl3IAAAAwdEVYdEF1dGhvcgBNYXRwbG90bGliIHYzLjUuMiwgaHR0cHM6Ly9tYXRwbG90bGliLm9yZ8JaeJwAAAAydEVYdFNvZnR3YXJlAE1hdHBsb3RsaWIgdjMuNS4yLCBodHRwczovL21hdHBsb3RsaWIub3Jn7PznuwAAAiJJREFUeJzt1kGSmzAURdEv2FqWkP0vJfQgMhQCGceV2Ttn4pL0EVQPum771X5vVVXVWv39XfrPeV193V5zS98f1sf5/fPjey73zu6/3Hv/uz2cz57f9vP68rxO9+/zre7nhvvG+et6vH92bw3PDfcsD+eX59+/53n96f3362/f87/vf5yr93Of72/fPV9P89tX3zGeH3OT8/07Zs+/32+TuXZZD8/VODf8W5uuH/b7vctlfuv7NazH8/t7ZnP7bz2cD3NL+/Ph3Hl+/efz83vWun/vuL++nquH9eu9w/uu6/vvOO49f/8xf77vOj+8b7Y/fMfse9ca/y7nv+d62a++X+f1vt+G/b7u+/u6TxzzS//tc2053QMABBEAABBIAABAIAEAAIEEAAAEEgAAEEgAAEAgAQAAgQQAAAQSAAAQSAAAQCABAACBBAAABBIAABBIAABAIAEAAIEEAAAEEgAAEEgAAEAgAQAAgQQAAAQSAAAQSAAAQCABAACBBAAABBIAABBIAABAIAEAAIEEAAAEEgAAEEgAAEAgAQAAgQQAAAQSAAAQSAAAQCABAACBBAAABBIAABBIAABAIAEAAIEEAAAEEgAAEEgAAEAgAQAAgQQAAAQSAAAQSAAAQCABAACBBAAABBIAABBIAABAIAEAAIEEAAAEEgAAEEgAAEAgAQAAgQQAAAQSAAAQSAAAQCABAACBBAAABBIAABBIAABAoB9ucImHxcKZtAAAAABJRU5ErkJggg==\"></div><div style=\"vertical-align: middle; max-width: 514px; display: flex; justify-content: space-between;\"><div style=\"float: left;\"><div title=\"#440154ff\" style=\"display: inline-block; width: 1em; height: 1em; margin: 0; vertical-align: middle; border: 1px solid #555; background-color: #440154ff;\"></div> under</div><div style=\"margin: 0 auto; display: inline-block;\">bad <div title=\"#00000000\" style=\"display: inline-block; width: 1em; height: 1em; margin: 0; vertical-align: middle; border: 1px solid #555; background-color: #00000000;\"></div></div><div style=\"float: right;\">over <div title=\"#fde725ff\" style=\"display: inline-block; width: 1em; height: 1em; margin: 0; vertical-align: middle; border: 1px solid #555; background-color: #fde725ff;\"></div></div>"
      ],
      "text/plain": [
       "<matplotlib.colors.ListedColormap at 0x7f569ecf5f40>"
      ]
     },
     "execution_count": 10,
     "metadata": {},
     "output_type": "execute_result"
    }
   ],
   "source": [
    "sns.set(font_scale=1)\n",
    "# test color for sns graph pallette\n",
    "'''\n",
    "Possible palette values include:\n",
    "Name of a seaborn palette (deep, muted, bright, pastel, dark, colorblind)\n",
    "\n",
    "Name of matplotlib colormap (check here: https://matplotlib.org/3.5.0/tutorials/colors/colormaps.html)\n",
    "\n",
    "‘husl’ or ‘hls’\n",
    "\n",
    "‘ch:<cubehelix arguments>’\n",
    "\n",
    "‘light:<color>’, ‘dark:<color>’, ‘blend:<color>,<color>’,\n",
    "\n",
    "A sequence of colors in any format matplotlib accepts\n",
    "'''\n",
    "graph_palette = \"viridis\"\n",
    "sns.color_palette(graph_palette, as_cmap=True)"
   ]
  },
  {
   "cell_type": "code",
   "execution_count": 11,
   "metadata": {},
   "outputs": [
    {
     "data": {
      "image/png": "[encoded data removed]",
      "text/plain": [
       "<Figure size 432x288 with 1 Axes>"
      ]
     },
     "metadata": {
      "needs_background": "light"
     },
     "output_type": "display_data"
    }
   ],
   "source": [
    "rcParams['figure.figsize'] = 30, 20\n",
    "graph = sns.barplot(x = n_samples, y = classes, data = counts, palette = graph_palette)\n",
    "graph.bar_label(graph.containers[0])\n",
    "graph.set_xlabel(\"samples\")\n",
    "graph.set_ylabel(\"methylation class\")\n",
    "plt.show()"
   ]
  },
  {
   "cell_type": "markdown",
   "metadata": {},
   "source": [
    "## Tackle the imbalanced class distribution"
   ]
  },
  {
   "cell_type": "markdown",
   "metadata": {},
   "source": [
    "#### SMOTE"
   ]
  },
  {
   "cell_type": "code",
   "execution_count": 12,
   "metadata": {},
   "outputs": [],
   "source": [
    "X = features\n",
    "y = np.array([get_int_label(label) for label in labels])"
   ]
  },
  {
   "cell_type": "code",
   "execution_count": 13,
   "metadata": {},
   "outputs": [
    {
     "name": "stdout",
     "output_type": "stream",
     "text": [
      "['SUBEPN, PF', 'ATRT, MYC', 'PITUI', 'EPN, MPE', 'EPN, SPINE', 'HMB', 'CPH, ADM', 'LGG, PA/GG ST', 'CONTR, INFLAM', 'CONTR, REACT', 'HGNET, BCOR', 'SCHW', 'ENB, A', 'LGG, MYB', 'PIN T,  PB B', 'PTPR, B', 'PLEX, AD', 'HGNET, MN1', 'LGG, SEGA', 'CN', 'CPH, PAP', 'LGG, GG', 'PITAD, FSH LH', 'ANA PA', 'SUBEPN, ST', 'PIN T, PPT', 'PGG, nC', 'RETB', 'PITAD, ACTH', 'PITAD, STH SPA', 'GBM, MYCN', 'ENB, B', 'SFT HMPC', 'MELCYT', 'PLEX, PED A ', 'GBM, MID', 'EWS', 'EFT, CIC', 'LYMPHO', 'CONTR, HEMI', 'GBM, RTK III', 'CHGL', 'MELAN', 'CONTR, PINEAL', 'PITAD, STH DNS B', 'CONTR, PONS', 'EPN, YAP', 'LIPN', 'IHG', 'PITAD, TSH', 'PIN T,  PB A', 'SUBEPN, SPINE', 'LGG, RGNT', 'CONTR, ADENOPIT', 'PITAD, STH DNS A', 'CONTR, WM', 'CHORDM', 'CONTR, HYPTHAL', 'CONTR, CEBM', 'PTPR, A', 'DLGNT', 'PITAD, PRL', 'SCHW, MEL', 'LGG, DIG/DIA', 'PLASMA']\n"
     ]
    }
   ],
   "source": [
    "minor_classes = list(sorted_labels_count.keys())[TAKE_MINOR_AT:]\n",
    "print(minor_classes)"
   ]
  },
  {
   "cell_type": "code",
   "execution_count": 14,
   "metadata": {},
   "outputs": [
    {
     "name": "stdout",
     "output_type": "stream",
     "text": [
      "832\n"
     ]
    }
   ],
   "source": [
    "minor_indexes = []\n",
    "i = 0\n",
    "for label in labels:\n",
    "    if label in minor_classes:\n",
    "        minor_indexes.append(i)\n",
    "    i += 1\n",
    "print(len(minor_indexes))"
   ]
  },
  {
   "cell_type": "code",
   "execution_count": 15,
   "metadata": {},
   "outputs": [
    {
     "name": "stdout",
     "output_type": "stream",
     "text": [
      "['ANA PA' 'ATRT, MYC' 'CHGL' 'CHORDM' 'CN' 'CONTR, ADENOPIT' 'CONTR, CEBM'\n",
      " 'CONTR, HEMI' 'CONTR, HYPTHAL' 'CONTR, INFLAM' 'CONTR, PINEAL'\n",
      " 'CONTR, PONS' 'CONTR, REACT' 'CONTR, WM' 'CPH, ADM' 'CPH, PAP' 'DLGNT'\n",
      " 'EFT, CIC' 'ENB, A' 'ENB, B' 'EPN, MPE' 'EPN, SPINE' 'EPN, YAP' 'EWS'\n",
      " 'GBM, MID' 'GBM, MYCN' 'GBM, RTK III' 'HGNET, BCOR' 'HGNET, MN1' 'HMB'\n",
      " 'IHG' 'LGG, DIG/DIA' 'LGG, GG' 'LGG, MYB' 'LGG, PA/GG ST' 'LGG, RGNT'\n",
      " 'LGG, SEGA' 'LIPN' 'LYMPHO' 'MELAN' 'MELCYT' 'PGG, nC' 'PIN T,  PB A'\n",
      " 'PIN T,  PB B' 'PIN T, PPT' 'PITAD, ACTH' 'PITAD, FSH LH' 'PITAD, PRL'\n",
      " 'PITAD, STH DNS A' 'PITAD, STH DNS B' 'PITAD, STH SPA' 'PITAD, TSH'\n",
      " 'PITUI' 'PLASMA' 'PLEX, AD' 'PLEX, PED A ' 'PTPR, A' 'PTPR, B' 'RETB'\n",
      " 'SCHW' 'SCHW, MEL' 'SFT HMPC' 'SUBEPN, PF' 'SUBEPN, SPINE' 'SUBEPN, ST'] 65\n",
      "['A IDH' 'A IDH, HG' 'ATRT, SHH' 'ATRT, TYR' 'CNS NB, FOXR2' 'DMG, K27'\n",
      " 'EPN, PF A' 'EPN, PF B' 'EPN, RELA' 'ETMR' 'GBM, G34' 'GBM, MES'\n",
      " 'GBM, RTK I' 'GBM, RTK II' 'LGG, DNT' 'LGG, PA MID' 'LGG, PA PF' 'MB, G3'\n",
      " 'MB, G4' 'MB, SHH CHL AD' 'MB, SHH INF' 'MB, WNT' 'MNG' 'O IDH'\n",
      " 'PLEX, PED B' 'PXA'] 26\n",
      "832 1372\n",
      "832 1372\n"
     ]
    }
   ],
   "source": [
    "minor_fetures = np.array([features[i] for i in minor_indexes])\n",
    "minor_labels = np.array([labels[i] for i in minor_indexes])\n",
    "major_features = np.array([features[i] for i in range(len(features)) if i not in minor_indexes])\n",
    "major_labels = np.array([labels[i] for i in range(len(features)) if i not in minor_indexes])\n",
    "print(np.unique(minor_labels), len(np.unique(minor_labels)))\n",
    "print(np.unique(major_labels), len(np.unique(major_labels)))\n",
    "print(len(minor_fetures), len(major_features))\n",
    "print(len(minor_labels), len(major_features))"
   ]
  },
  {
   "cell_type": "code",
   "execution_count": 16,
   "metadata": {},
   "outputs": [],
   "source": [
    "X_minor = minor_fetures\n",
    "y_minor = minor_labels\n",
    "X_major = major_features\n",
    "y_major = major_labels"
   ]
  },
  {
   "cell_type": "code",
   "execution_count": 17,
   "metadata": {},
   "outputs": [],
   "source": [
    "smote = SMOTE(sampling_strategy = \"auto\", random_state = 42)\n",
    "new_X_minor, new_y_minor = smote.fit_resample(X_minor, y_minor)"
   ]
  },
  {
   "cell_type": "code",
   "execution_count": 18,
   "metadata": {},
   "outputs": [
    {
     "name": "stdout",
     "output_type": "stream",
     "text": [
      "<class 'numpy.ndarray'> <class 'numpy.ndarray'> 1885 1885\n"
     ]
    }
   ],
   "source": [
    "print(type(new_X_minor), type(new_y_minor), len(new_X_minor), len(new_y_minor))"
   ]
  },
  {
   "cell_type": "code",
   "execution_count": 19,
   "metadata": {},
   "outputs": [
    {
     "name": "stdout",
     "output_type": "stream",
     "text": [
      "3257 3257\n"
     ]
    }
   ],
   "source": [
    "new_X = np.append(X_major, new_X_minor, axis = 0)\n",
    "new_y = np.append(y_major, new_y_minor)\n",
    "print(len(new_X), len(new_y))"
   ]
  }
 ],
 "metadata": {
  "interpreter": {
   "hash": "f1a95063673afb40ff742ea38932ca37761c5e5b95ffd28e8b29d2c50499cde7"
  },
  "kernelspec": {
   "display_name": "Python 3.8.5 ('base')",
   "language": "python",
   "name": "python3"
  },
  "language_info": {
   "codemirror_mode": {
    "name": "ipython",
    "version": 3
   },
   "file_extension": ".py",
   "mimetype": "text/x-python",
   "name": "python",
   "nbconvert_exporter": "python",
   "pygments_lexer": "ipython3",
   "version": "3.8.5"
  },
  "orig_nbformat": 4
 },
 "nbformat": 4,
 "nbformat_minor": 2
}
