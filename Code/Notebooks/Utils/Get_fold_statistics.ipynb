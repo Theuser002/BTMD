{
 "cells": [
  {
   "cell_type": "code",
   "execution_count": 2,
   "id": "721cd965",
   "metadata": {},
   "outputs": [],
   "source": [
    "import pyreadr\n",
    "import pandas\n",
    "import os"
   ]
  },
  {
   "cell_type": "code",
   "execution_count": 3,
   "id": "859e1aac",
   "metadata": {},
   "outputs": [],
   "source": [
    "FEATURES_PATH = \"../Data/DNAMicroarray/Features/\"\n",
    "LABELS_PATH = \"../Data/DNAMicroarray/Labels\""
   ]
  },
  {
   "cell_type": "code",
   "execution_count": 5,
   "id": "a8bba98e",
   "metadata": {},
   "outputs": [
    {
     "name": "stdout",
     "output_type": "stream",
     "text": [
      "../Data/DNAMicroarray/Features\\betas.1.0.RData\n",
      "2204 597 2801\n",
      "../Data/DNAMicroarray/Features\\betas.1.1.RData\n",
      "1720 484 2204\n",
      "../Data/DNAMicroarray/Features\\betas.1.2.RData\n",
      "1747 457 2204\n",
      "../Data/DNAMicroarray/Features\\betas.1.3.RData\n",
      "1771 433 2204\n",
      "../Data/DNAMicroarray/Features\\betas.1.4.RData\n",
      "1782 422 2204\n",
      "../Data/DNAMicroarray/Features\\betas.1.5.RData\n",
      "1796 408 2204\n",
      "../Data/DNAMicroarray/Features\\betas.2.0.RData\n",
      "2221 580 2801\n",
      "../Data/DNAMicroarray/Features\\betas.2.1.RData\n",
      "1736 485 2221\n",
      "../Data/DNAMicroarray/Features\\betas.2.2.RData\n",
      "1755 466 2221\n",
      "../Data/DNAMicroarray/Features\\betas.2.3.RData\n",
      "1783 438 2221\n",
      "../Data/DNAMicroarray/Features\\betas.2.4.RData\n",
      "1798 423 2221\n",
      "../Data/DNAMicroarray/Features\\betas.2.5.RData\n",
      "1812 409 2221\n",
      "../Data/DNAMicroarray/Features\\betas.3.0.RData\n",
      "2236 565 2801\n",
      "../Data/DNAMicroarray/Features\\betas.3.1.RData\n",
      "1751 485 2236\n",
      "../Data/DNAMicroarray/Features\\betas.3.2.RData\n",
      "1767 469 2236\n",
      "../Data/DNAMicroarray/Features\\betas.3.3.RData\n",
      "1794 442 2236\n",
      "../Data/DNAMicroarray/Features\\betas.3.4.RData\n",
      "1812 424 2236\n",
      "../Data/DNAMicroarray/Features\\betas.3.5.RData\n",
      "1820 416 2236\n",
      "../Data/DNAMicroarray/Features\\betas.4.0.RData\n",
      "2259 542 2801\n",
      "../Data/DNAMicroarray/Features\\betas.4.1.RData\n",
      "1768 491 2259\n",
      "../Data/DNAMicroarray/Features\\betas.4.2.RData\n",
      "1783 476 2259\n",
      "../Data/DNAMicroarray/Features\\betas.4.3.RData\n",
      "1814 445 2259\n",
      "../Data/DNAMicroarray/Features\\betas.4.4.RData\n",
      "1831 428 2259\n",
      "../Data/DNAMicroarray/Features\\betas.4.5.RData\n",
      "1840 419 2259\n",
      "../Data/DNAMicroarray/Features\\betas.5.0.RData\n",
      "2284 517 2801\n",
      "../Data/DNAMicroarray/Features\\betas.5.1.RData\n",
      "1787 497 2284\n",
      "../Data/DNAMicroarray/Features\\betas.5.2.RData\n",
      "1802 482 2284\n",
      "../Data/DNAMicroarray/Features\\betas.5.3.RData\n",
      "1830 454 2284\n",
      "../Data/DNAMicroarray/Features\\betas.5.4.RData\n",
      "1854 430 2284\n",
      "../Data/DNAMicroarray/Features\\betas.5.5.RData\n",
      "1863 421 2284\n",
      "56020 14005\n"
     ]
    }
   ],
   "source": [
    "DIR = \"../Data/DNAMicroarray/Features\"\n",
    "sum_train = 0\n",
    "sum_test = 0\n",
    "count = 0\n",
    "for file_name in os.listdir(DIR):\n",
    "    count = count + 1\n",
    "    if count % 1 == 0:\n",
    "        file_dir = os.path.join(DIR, file_name)\n",
    "        print(file_dir)\n",
    "        features = pyreadr.read_r(file_dir)\n",
    "        \n",
    "        df_train = features[\"betas.train\"]\n",
    "        df_test = features[\"betas.test\"]\n",
    "        n_train_samples = df_train.shape[0]\n",
    "        n_test_samples = df_test.shape[0]\n",
    "        print(n_train_samples, n_test_samples, n_train_samples + n_test_samples)\n",
    "        \n",
    "        sum_train += df_train.shape[0]\n",
    "        sum_test += df_test.shape[0]\n",
    "    if count > 30:\n",
    "        break\n",
    "\n",
    "print(sum_train, sum_test)"
   ]
  }
 ],
 "metadata": {
  "kernelspec": {
   "display_name": "Python 3 (ipykernel)",
   "language": "python",
   "name": "python3"
  },
  "language_info": {
   "codemirror_mode": {
    "name": "ipython",
    "version": 3
   },
   "file_extension": ".py",
   "mimetype": "text/x-python",
   "name": "python",
   "nbconvert_exporter": "python",
   "pygments_lexer": "ipython3",
   "version": "3.8.5"
  }
 },
 "nbformat": 4,
 "nbformat_minor": 5
}
