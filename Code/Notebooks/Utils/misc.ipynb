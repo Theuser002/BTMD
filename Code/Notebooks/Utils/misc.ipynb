{
 "cells": [
  {
   "cell_type": "code",
   "execution_count": 11,
   "metadata": {},
   "outputs": [],
   "source": [
    "import sys\n",
    "sys.path.append('../../Python')\n",
    "from utils import map_class_to_group"
   ]
  },
  {
   "cell_type": "code",
   "execution_count": 13,
   "metadata": {},
   "outputs": [
    {
     "name": "stdout",
     "output_type": "stream",
     "text": [
      "Control\n"
     ]
    }
   ],
   "source": [
    "methyl_class = 'CEBM'\n",
    "print(map_class_to_group(methyl_class))"
   ]
  },
  {
   "cell_type": "code",
   "execution_count": null,
   "metadata": {},
   "outputs": [
    {
     "name": "stdout",
     "output_type": "stream",
     "text": [
      "91\n"
     ]
    }
   ],
   "source": [
    "map = {\n",
    "    'Embryonal': ['MB, G4', 'MB, G3', 'MB, WNT', 'ETMR', 'HGNET, BCOR', 'CNS NB, FOXR2', 'ATRT, TYR', 'ATRT, SHH', 'ATRT, MYC', 'MB, SHH INF', 'MB, SHH CHL AD'],\n",
    "    'Glioblastoma': ['DMG, K27', 'GBM, G34', 'GBM, MES', 'GBM, RTK I', 'GBM, RTK II','GBM, RTK III', 'GBM, MID', 'GBM, MYCN'],\n",
    "    'Glio-neuronal': ['CN', 'ENB, B', 'ENB, A', 'RETB', 'LGG, GG', 'DLGNT', 'LGG, RGNT', 'LGG, DIG/DIA', 'LGG, DNT', 'LIPN', 'PGG, nC'],\n",
    "    'Sella': ['PITAD, PRL', 'PITAD, FSH LH', 'PITAD, ACH', 'CPH, PAP', 'CPH, ADM', 'PITAD, STH SPA', 'PITAD, STH DNS B', 'PITAD, STH DNS A', 'PITAD, TSH', 'PITUI, SCO, GCT'],\n",
    "    'Ependymal': ['EPN, RELA', 'EPN, MPE', 'SUBEPN, ST', 'SUBEPN, SPINE', 'SUBEPN, PF', 'EPN, SPINE', 'EPN, PF B', 'EPN, PF A', 'EPN, YAP'],\n",
    "    'Other glioma': ['IHG', 'LGG, SEGA', 'CHGL', 'LGG, PA MID', 'LGG, PA PF', 'LGG, MYB', 'ANA PA', 'HGNET, MN1', 'LGG, PA/GG ST', 'PXA'],\n",
    "    'Nerve': ['SCHW, MEL', 'SCHW'],\n",
    "    'Pineal': ['PTPR, B', 'PTPR, A', 'PIN T, PB B', 'PIN T, PB A', 'PIN T, PPT'],\n",
    "    'Mesenchymal': ['SFT HMPC', 'MNG', 'HMB', 'EWS', 'CHORDM', 'EFT, CIC'],\n",
    "    'Melanocytic': ['MELCYT', 'MELAN'],\n",
    "    'Plexus': ['PLEX, PED B', 'PLEX, PED A', 'PLEX, AD'],\n",
    "    'Glioma IDH': ['A IDH, HG', 'A IDH', 'O IDH'],\n",
    "    'Haematopoietic': ['PLASMA', 'LYMPHO'],\n",
    "    'Control': ['CONTR, REACT', 'CONTR, PONS', 'CONTR, PINEAL', 'CONTR, INFLAM', 'CONTR, HYPTHAL', 'CONTR, HEMI', 'CONTR, CEBM', 'CONTR, WM', 'CONTR, ADENOPIT']\n",
    "}\n",
    "\n",
    "methyl_class_list = ['MB, G4', 'MB, G3', 'MB, WNT', 'ETMR', 'HGNET, BCOR', 'CNS NB, FOXR2', 'ATRT, TYR', 'ATRT, SHH', 'ATRT, MYC', 'MB, SHH INF', 'MB, SHH CHL AD', 'DMG, K27', 'GBM, G34', 'GBM, MES', 'GBM, RTK I', 'GBM, RTK II','GBM, RTK III', 'GBM, MID', 'GBM, MYCN', 'CN', 'ENB, B', 'ENB, A', 'RETB', 'LGG, GG', 'DLGNT', 'LGG, RGNT', 'LGG, DIG/DIA', 'LGG, DNT', 'LIPN', 'PGG, nC', 'PITAD, PRL', 'PITAD, FSH LH', 'PITAD, ACH', 'CPH, PAP', 'CPH, ADM', 'PITAD, STH SPA', 'PITAD, STH DNS B', 'PITAD, STH DNS A', 'PITAD, TSH', 'PITUI, SCO, GCT', 'EPN, RELA', 'EPN, MPE', 'SUBEPN, ST', 'SUBEPN, SPINE', 'SUBEPN, PF', 'EPN, SPINE', 'EPN, PF B', 'EPN, PF A', 'EPN, YAP', 'IHG', 'LGG, SEGA', 'CHGL', 'LGG, PA MID', 'LGG, PA PF', 'LGG, MYB', 'ANA PA', 'HGNET, MN1', 'LGG, PA/GG ST', 'PXA', 'SCHW, MEL', 'SCHW', 'PTPR, B', 'PTPR, A', 'PIN T, PB B', 'PIN T, PB A', 'PIN T, PPT', 'SFT HMPC', 'MNG', 'HMB', 'EWS', 'CHORDM', 'EFT, CIC', 'MELCYT', 'MELAN', 'PLEX, PED B', 'PLEX, PED A', 'PLEX, AD', 'A IDH, HG', 'A IDH', 'O IDH', 'PLASMA', 'LYMPHO', 'CONTR, REACT', 'CONTR, PONS', 'CONTR, PINEAL', 'CONTR, INFLAM', 'CONTR, HYPTHAL', 'CONTR, HEMI', 'CONTR, CEBM', 'CONTR, WM', 'CONTR, ADENOPIT']\n",
    "print(len(methyl_class_list))"
   ]
  },
  {
   "cell_type": "code",
   "execution_count": 15,
   "metadata": {},
   "outputs": [
    {
     "name": "stdout",
     "output_type": "stream",
     "text": [
      "Hello   odewoidj\n"
     ]
    }
   ],
   "source": [
    "print('Hello   odewoidj'.strip())"
   ]
  },
  {
   "cell_type": "code",
   "execution_count": null,
   "metadata": {},
   "outputs": [
    {
     "name": "stdout",
     "output_type": "stream",
     "text": [
      "Total:  91\n",
      "Group names: ['Embryonal', 'Glioblastoma', 'Glio-neuronal', 'Sella', 'Ependymal', 'Other glioma', 'Nerve', 'Pineal', 'Mesenchymal', 'Melanocytic', 'Plexus', 'Glioma IDH', 'Haematopoietic', 'Control'] of 14 groups\n",
      "Number of classes per group: [11, 8, 11, 10, 9, 10, 2, 5, 6, 2, 3, 3, 2, 9] of 14 groups\n",
      "Group index range: [11, 19, 30, 40, 49, 59, 61, 66, 72, 74, 77, 80, 82, 91]\n"
     ]
    }
   ],
   "source": [
    "total = 0\n",
    "n_classes_per_group = []\n",
    "group_names = []\n",
    "group_index_range = []\n",
    "for group_name, classes in zip(map.keys(), map.values()):\n",
    "    count = len(classes)\n",
    "    group_names.append(group_name)\n",
    "    n_classes_per_group.append(count)\n",
    "    total += count\n",
    "    group_index_range.append(total)\n",
    "\n",
    "print(f'Total:  {total}')\n",
    "print(f'Group names: {group_names} of {len(group_names)} groups')\n",
    "print(f'Number of classes per group: {n_classes_per_group} of {len(n_classes_per_group)} groups')\n",
    "print(f'Group index range: {group_index_range}')"
   ]
  },
  {
   "cell_type": "code",
   "execution_count": null,
   "metadata": {},
   "outputs": [],
   "source": [
    "def map_class_to_group (methyl_class, methyl_class_list, group_names, group_index_range):\n",
    "    methyl_class_index = methyl_class_list.index(methyl_class)\n",
    "    # print(methyl_class_index)\n",
    "    for i in range(len(group_index_range)):\n",
    "        if group_index_range[i] > methyl_class_index:\n",
    "            break\n",
    "    return group_names[i]"
   ]
  },
  {
   "cell_type": "code",
   "execution_count": null,
   "metadata": {},
   "outputs": [
    {
     "name": "stdout",
     "output_type": "stream",
     "text": [
      "Ependymal\n"
     ]
    }
   ],
   "source": [
    "methyl_class = 'EPN, YAP'\n",
    "print(map_class_to_group(methyl_class, methyl_class_list, group_names, group_index_range))"
   ]
  }
 ],
 "metadata": {
  "kernelspec": {
   "display_name": "Python 3.8.5 ('base')",
   "language": "python",
   "name": "python3"
  },
  "language_info": {
   "codemirror_mode": {
    "name": "ipython",
    "version": 3
   },
   "file_extension": ".py",
   "mimetype": "text/x-python",
   "name": "python",
   "nbconvert_exporter": "python",
   "pygments_lexer": "ipython3",
   "version": "3.8.5"
  },
  "orig_nbformat": 4,
  "vscode": {
   "interpreter": {
    "hash": "f1a95063673afb40ff742ea38932ca37761c5e5b95ffd28e8b29d2c50499cde7"
   }
  }
 },
 "nbformat": 4,
 "nbformat_minor": 2
}
