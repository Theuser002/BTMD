{
 "cells": [
  {
   "cell_type": "code",
   "execution_count": 5,
   "metadata": {},
   "outputs": [],
   "source": [
    "import sys\n",
    "sys.path.append('/media/data/hungnt/work/Datasets/BTMD/Code/src')\n",
    "\n",
    "import os\n",
    "import utils\n",
    "import numpy as np\n",
    "import pandas as pd\n",
    "import matplotlib.pyplot as plt\n",
    "import collections\n",
    "import seaborn as sns\n",
    "\n",
    "from utils import make_ndarray_from_csv, get_int_label\n",
    "from collections import Counter, OrderedDict\n",
    "from matplotlib import rcParams\n",
    "from imblearn.over_sampling import SMOTE, RandomOverSampler"
   ]
  },
  {
   "cell_type": "markdown",
   "metadata": {},
   "source": [
    "## Config"
   ]
  },
  {
   "cell_type": "code",
   "execution_count": 6,
   "metadata": {},
   "outputs": [],
   "source": [
    "# Change option so that pandas always display all rows of the dataframe\n",
    "pd.set_option('display.max_rows', None)"
   ]
  },
  {
   "cell_type": "code",
   "execution_count": 7,
   "metadata": {},
   "outputs": [],
   "source": [
    "TAKE_MINOR_AT = -5\n",
    "fold = '1.0'"
   ]
  },
  {
   "cell_type": "markdown",
   "metadata": {},
   "source": [
    "## Count number of samples for each class"
   ]
  },
  {
   "cell_type": "code",
   "execution_count": 8,
   "metadata": {},
   "outputs": [
    {
     "data": {
      "text/plain": [
       "((2204, 10000), (2204,))"
      ]
     },
     "execution_count": 8,
     "metadata": {},
     "output_type": "execute_result"
    }
   ],
   "source": [
    "features, labels = make_ndarray_from_csv(fold, mode = 'train')\n",
    "features.shape, labels.shape"
   ]
  },
  {
   "cell_type": "code",
   "execution_count": 9,
   "metadata": {},
   "outputs": [],
   "source": [
    "labels_count = Counter(labels)"
   ]
  },
  {
   "cell_type": "code",
   "execution_count": 10,
   "metadata": {},
   "outputs": [
    {
     "name": "stdout",
     "output_type": "stream",
     "text": [
      "Counter({'Embryonal': 481, 'Glioblastoma': 336, 'Ependymal': 270, 'Other glioma': 257, 'Glioma IDH': 162, 'Glio-neuronal': 154, 'Mesenchymal': 132, 'Sella': 132, 'Control': 92, 'Plexus': 65, 'Pineal': 62, 'Nerve': 24, 'Melanocytic': 21, 'Haematopoietic': 16})\n"
     ]
    }
   ],
   "source": [
    "print(labels_count)"
   ]
  },
  {
   "cell_type": "code",
   "execution_count": 11,
   "metadata": {},
   "outputs": [
    {
     "name": "stdout",
     "output_type": "stream",
     "text": [
      "OrderedDict([('Embryonal', 481), ('Glioblastoma', 336), ('Ependymal', 270), ('Other glioma', 257), ('Glioma IDH', 162), ('Glio-neuronal', 154), ('Mesenchymal', 132), ('Sella', 132), ('Control', 92), ('Plexus', 65), ('Pineal', 62), ('Nerve', 24), ('Melanocytic', 21), ('Haematopoietic', 16)])\n"
     ]
    }
   ],
   "source": [
    "sorted_labels_count = OrderedDict(labels_count.most_common())\n",
    "print(sorted_labels_count)"
   ]
  },
  {
   "cell_type": "code",
   "execution_count": 12,
   "metadata": {},
   "outputs": [
    {
     "name": "stdout",
     "output_type": "stream",
     "text": [
      "            labels  samples\n",
      "0        Embryonal      481\n",
      "1     Glioblastoma      336\n",
      "2        Ependymal      270\n",
      "3     Other glioma      257\n",
      "4       Glioma IDH      162\n",
      "5    Glio-neuronal      154\n",
      "6      Mesenchymal      132\n",
      "7            Sella      132\n",
      "8          Control       92\n",
      "9           Plexus       65\n",
      "10          Pineal       62\n",
      "11           Nerve       24\n",
      "12     Melanocytic       21\n",
      "13  Haematopoietic       16\n"
     ]
    }
   ],
   "source": [
    "df = pd.DataFrame.from_dict(sorted_labels_count, orient='index').reset_index()\n",
    "df = df.rename(columns = {'index':'labels', 0:'samples'})\n",
    "print(df.to_string())\n",
    "# df"
   ]
  },
  {
   "cell_type": "markdown",
   "metadata": {},
   "source": [
    "## Visualization"
   ]
  },
  {
   "cell_type": "code",
   "execution_count": 13,
   "metadata": {},
   "outputs": [
    {
     "name": "stdout",
     "output_type": "stream",
     "text": [
      "(2204,) (14,)\n"
     ]
    }
   ],
   "source": [
    "classes = np.array(df.iloc[:,0])\n",
    "n_samples = np.array(df.iloc[:,-1])\n",
    "counts = df['labels'].value_counts().reset_index(name = 'samples')\n",
    "print(labels.shape, n_samples.shape)"
   ]
  },
  {
   "cell_type": "code",
   "execution_count": 14,
   "metadata": {},
   "outputs": [
    {
     "data": {
      "image/png": "[encoded data removed]",
      "text/html": [
       "<div style=\"vertical-align: middle;\"><strong>viridis</strong> </div><div class=\"cmap\"><img alt=\"viridis colormap\" title=\"viridis\" style=\"border: 1px solid #555;\" src=\"data:image/png;base64,iVBORw0KGgoAAAANSUhEUgAAAgAAAABACAYAAABsv8+/AAAAFnRFWHRUaXRsZQB2aXJpZGlzIGNvbG9ybWFwrE0mCwAAABx0RVh0RGVzY3JpcHRpb24AdmlyaWRpcyBjb2xvcm1hcAtjl3IAAAAwdEVYdEF1dGhvcgBNYXRwbG90bGliIHYzLjUuMiwgaHR0cHM6Ly9tYXRwbG90bGliLm9yZ8JaeJwAAAAydEVYdFNvZnR3YXJlAE1hdHBsb3RsaWIgdjMuNS4yLCBodHRwczovL21hdHBsb3RsaWIub3Jn7PznuwAAAiJJREFUeJzt1kGSmzAURdEv2FqWkP0vJfQgMhQCGceV2Ttn4pL0EVQPum771X5vVVXVWv39XfrPeV193V5zS98f1sf5/fPjey73zu6/3Hv/uz2cz57f9vP68rxO9+/zre7nhvvG+et6vH92bw3PDfcsD+eX59+/53n96f3362/f87/vf5yr93Of72/fPV9P89tX3zGeH3OT8/07Zs+/32+TuXZZD8/VODf8W5uuH/b7vctlfuv7NazH8/t7ZnP7bz2cD3NL+/Ph3Hl+/efz83vWun/vuL++nquH9eu9w/uu6/vvOO49f/8xf77vOj+8b7Y/fMfse9ca/y7nv+d62a++X+f1vt+G/b7u+/u6TxzzS//tc2053QMABBEAABBIAABAIAEAAIEEAAAEEgAAEEgAAEAgAQAAgQQAAAQSAAAQSAAAQCABAACBBAAABBIAABBIAABAIAEAAIEEAAAEEgAAEEgAAEAgAQAAgQQAAAQSAAAQSAAAQCABAACBBAAABBIAABBIAABAIAEAAIEEAAAEEgAAEEgAAEAgAQAAgQQAAAQSAAAQSAAAQCABAACBBAAABBIAABBIAABAIAEAAIEEAAAEEgAAEEgAAEAgAQAAgQQAAAQSAAAQSAAAQCABAACBBAAABBIAABBIAABAIAEAAIEEAAAEEgAAEEgAAEAgAQAAgQQAAAQSAAAQSAAAQCABAACBBAAABBIAABBIAABAoB9ucImHxcKZtAAAAABJRU5ErkJggg==\"></div><div style=\"vertical-align: middle; max-width: 514px; display: flex; justify-content: space-between;\"><div style=\"float: left;\"><div title=\"#440154ff\" style=\"display: inline-block; width: 1em; height: 1em; margin: 0; vertical-align: middle; border: 1px solid #555; background-color: #440154ff;\"></div> under</div><div style=\"margin: 0 auto; display: inline-block;\">bad <div title=\"#00000000\" style=\"display: inline-block; width: 1em; height: 1em; margin: 0; vertical-align: middle; border: 1px solid #555; background-color: #00000000;\"></div></div><div style=\"float: right;\">over <div title=\"#fde725ff\" style=\"display: inline-block; width: 1em; height: 1em; margin: 0; vertical-align: middle; border: 1px solid #555; background-color: #fde725ff;\"></div></div>"
      ],
      "text/plain": [
       "<matplotlib.colors.ListedColormap at 0x7f231d642fd0>"
      ]
     },
     "execution_count": 14,
     "metadata": {},
     "output_type": "execute_result"
    }
   ],
   "source": [
    "sns.set(font_scale=1)\n",
    "# test color for sns graph pallette\n",
    "'''\n",
    "Possible palette values include:\n",
    "Name of a seaborn palette (deep, muted, bright, pastel, dark, colorblind)\n",
    "\n",
    "Name of matplotlib colormap (check here: https://matplotlib.org/3.5.0/tutorials/colors/colormaps.html)\n",
    "\n",
    "‘husl’ or ‘hls’\n",
    "\n",
    "‘ch:<cubehelix arguments>’\n",
    "\n",
    "‘light:<color>’, ‘dark:<color>’, ‘blend:<color>,<color>’,\n",
    "\n",
    "A sequence of colors in any format matplotlib accepts\n",
    "'''\n",
    "graph_palette = \"viridis\"\n",
    "sns.color_palette(graph_palette, as_cmap=True)"
   ]
  },
  {
   "cell_type": "code",
   "execution_count": 15,
   "metadata": {},
   "outputs": [
    {
     "data": {
      "image/png": "[encoded data removed]",
      "text/plain": [
       "<Figure size 432x288 with 1 Axes>"
      ]
     },
     "metadata": {
      "needs_background": "light"
     },
     "output_type": "display_data"
    }
   ],
   "source": [
    "rcParams['figure.figsize'] = 20, 10\n",
    "graph = sns.barplot(x = n_samples, y = classes, data = counts, palette = graph_palette)\n",
    "graph.bar_label(graph.containers[0])\n",
    "graph.set_xlabel(\"samples\")\n",
    "graph.set_ylabel(\"methylation class\")\n",
    "plt.show()"
   ]
  },
  {
   "cell_type": "markdown",
   "metadata": {},
   "source": [
    "## Tackle the imbalanced class distribution"
   ]
  },
  {
   "cell_type": "markdown",
   "metadata": {},
   "source": [
    "#### SMOTE"
   ]
  },
  {
   "cell_type": "code",
   "execution_count": 16,
   "metadata": {},
   "outputs": [
    {
     "name": "stdout",
     "output_type": "stream",
     "text": [
      "['Control' 'Embryonal' 'Ependymal' 'Glio-neuronal' 'Glioblastoma'\n",
      " 'Glioma IDH' 'Haematopoietic' 'Melanocytic' 'Mesenchymal' 'Nerve'\n",
      " 'Other glioma' 'Pineal' 'Plexus' 'Sella']\n",
      "['Control' 'Embryonal' 'Ependymal' 'Glio-neuronal' 'Glioblastoma'\n",
      " 'Glioma IDH' 'Haematopoietic' 'Melanocytic' 'Mesenchymal' 'Nerve'\n",
      " 'Other glioma' 'Pineal' 'Plexus' 'Sella']\n"
     ]
    }
   ],
   "source": [
    "X = features\n",
    "y = labels\n",
    "print(np.unique(labels))\n",
    "print(np.unique(y))"
   ]
  },
  {
   "cell_type": "code",
   "execution_count": 17,
   "metadata": {},
   "outputs": [
    {
     "name": "stdout",
     "output_type": "stream",
     "text": [
      "['Plexus', 'Pineal', 'Nerve', 'Melanocytic', 'Haematopoietic']\n"
     ]
    }
   ],
   "source": [
    "minor_classes = list(sorted_labels_count.keys())[TAKE_MINOR_AT:]\n",
    "print(minor_classes)"
   ]
  },
  {
   "cell_type": "code",
   "execution_count": 18,
   "metadata": {},
   "outputs": [
    {
     "name": "stdout",
     "output_type": "stream",
     "text": [
      "188\n"
     ]
    }
   ],
   "source": [
    "minor_indexes = []\n",
    "i = 0\n",
    "for label in labels:\n",
    "    if label in minor_classes:\n",
    "        minor_indexes.append(i)\n",
    "    i += 1\n",
    "print(len(minor_indexes))"
   ]
  },
  {
   "cell_type": "code",
   "execution_count": 19,
   "metadata": {},
   "outputs": [
    {
     "name": "stdout",
     "output_type": "stream",
     "text": [
      "['Haematopoietic' 'Melanocytic' 'Nerve' 'Pineal' 'Plexus'] 5\n",
      "['Control' 'Embryonal' 'Ependymal' 'Glio-neuronal' 'Glioblastoma'\n",
      " 'Glioma IDH' 'Mesenchymal' 'Other glioma' 'Sella'] 9\n",
      "188 2016\n",
      "188 2016\n"
     ]
    }
   ],
   "source": [
    "minor_fetures = np.array([features[i] for i in minor_indexes])\n",
    "minor_labels = np.array([labels[i] for i in minor_indexes])\n",
    "major_features = np.array([features[i] for i in range(len(features)) if i not in minor_indexes])\n",
    "major_labels = np.array([labels[i] for i in range(len(features)) if i not in minor_indexes])\n",
    "print(np.unique(minor_labels), len(np.unique(minor_labels)))\n",
    "print(np.unique(major_labels), len(np.unique(major_labels)))\n",
    "print(len(minor_fetures), len(major_features))\n",
    "print(len(minor_labels), len(major_features))"
   ]
  },
  {
   "cell_type": "code",
   "execution_count": 20,
   "metadata": {},
   "outputs": [
    {
     "name": "stdout",
     "output_type": "stream",
     "text": [
      "['Control' 'Embryonal' 'Ependymal' 'Glio-neuronal' 'Glioblastoma'\n",
      " 'Glioma IDH' 'Mesenchymal' 'Other glioma' 'Sella'] \n",
      " ['Haematopoietic' 'Melanocytic' 'Nerve' 'Pineal' 'Plexus']\n"
     ]
    }
   ],
   "source": [
    "X_minor = minor_fetures\n",
    "y_minor = minor_labels\n",
    "X_major = major_features\n",
    "y_major = major_labels\n",
    "print(np.unique(y_major),'\\n' ,np.unique(y_minor))"
   ]
  },
  {
   "cell_type": "code",
   "execution_count": 21,
   "metadata": {},
   "outputs": [],
   "source": [
    "smote = SMOTE(sampling_strategy = \"auto\", random_state = 42)\n",
    "new_X_minor, new_y_minor = smote.fit_resample(X_minor, y_minor)"
   ]
  },
  {
   "cell_type": "code",
   "execution_count": 22,
   "metadata": {},
   "outputs": [
    {
     "name": "stdout",
     "output_type": "stream",
     "text": [
      "<class 'numpy.ndarray'> <class 'numpy.ndarray'> 325 325\n"
     ]
    }
   ],
   "source": [
    "print(type(new_X_minor), type(new_y_minor), len(new_X_minor), len(new_y_minor))"
   ]
  },
  {
   "cell_type": "code",
   "execution_count": 25,
   "metadata": {},
   "outputs": [
    {
     "name": "stdout",
     "output_type": "stream",
     "text": [
      "2341 2341\n"
     ]
    }
   ],
   "source": [
    "new_X = np.append(X_major, new_X_minor, axis = 0)\n",
    "new_y = np.append(y_major, new_y_minor)\n",
    "print(len(new_X), len(new_y))"
   ]
  }
 ],
 "metadata": {
  "interpreter": {
   "hash": "f1a95063673afb40ff742ea38932ca37761c5e5b95ffd28e8b29d2c50499cde7"
  },
  "kernelspec": {
   "display_name": "Python 3.8.5 ('base')",
   "language": "python",
   "name": "python3"
  },
  "language_info": {
   "codemirror_mode": {
    "name": "ipython",
    "version": 3
   },
   "file_extension": ".py",
   "mimetype": "text/x-python",
   "name": "python",
   "nbconvert_exporter": "python",
   "pygments_lexer": "ipython3",
   "version": "3.8.5"
  },
  "orig_nbformat": 4
 },
 "nbformat": 4,
 "nbformat_minor": 2
}
