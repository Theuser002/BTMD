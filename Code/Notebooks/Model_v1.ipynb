{
 "cells": [
  {
   "cell_type": "markdown",
   "metadata": {},
   "source": [
    "## Check Hardware"
   ]
  },
  {
   "cell_type": "code",
   "execution_count": 10,
   "metadata": {},
   "outputs": [
    {
     "name": "stdout",
     "output_type": "stream",
     "text": [
      "Fri Apr 22 15:29:01 2022       \n",
      "+-----------------------------------------------------------------------------+\n",
      "| NVIDIA-SMI 470.103.01   Driver Version: 470.103.01   CUDA Version: 11.4     |\n",
      "|-------------------------------+----------------------+----------------------+\n",
      "| GPU  Name        Persistence-M| Bus-Id        Disp.A | Volatile Uncorr. ECC |\n",
      "| Fan  Temp  Perf  Pwr:Usage/Cap|         Memory-Usage | GPU-Util  Compute M. |\n",
      "|                               |                      |               MIG M. |\n",
      "|===============================+======================+======================|\n",
      "|   0  NVIDIA GeForce ...  Off  | 00000000:01:00.0 Off |                  N/A |\n",
      "|  0%   42C    P8    22W / 260W |     21MiB / 11019MiB |      0%      Default |\n",
      "|                               |                      |                  N/A |\n",
      "+-------------------------------+----------------------+----------------------+\n",
      "                                                                               \n",
      "+-----------------------------------------------------------------------------+\n",
      "| Processes:                                                                  |\n",
      "|  GPU   GI   CI        PID   Type   Process name                  GPU Memory |\n",
      "|        ID   ID                                                   Usage      |\n",
      "|=============================================================================|\n",
      "|    0   N/A  N/A      1163      G   /usr/lib/xorg/Xorg                  9MiB |\n",
      "|    0   N/A  N/A      1289      G   /usr/bin/gnome-shell                6MiB |\n",
      "+-----------------------------------------------------------------------------+\n"
     ]
    }
   ],
   "source": [
    "!nvidia-smi"
   ]
  },
  {
   "cell_type": "code",
   "execution_count": 11,
   "metadata": {},
   "outputs": [
    {
     "name": "stdout",
     "output_type": "stream",
     "text": [
      "Package                            Version\n",
      "---------------------------------- -------------------\n",
      "-andas                             1.1.3\n",
      "absl-py                            0.14.1\n",
      "alabaster                          0.7.12\n",
      "albumentations                     0.4.6\n",
      "anaconda-client                    1.7.2\n",
      "anaconda-navigator                 1.10.0\n",
      "anaconda-project                   0.8.3\n",
      "argh                               0.26.2\n",
      "argon2-cffi                        20.1.0\n",
      "asn1crypto                         1.4.0\n",
      "astroid                            2.4.2\n",
      "astropy                            4.0.2\n",
      "astunparse                         1.6.3\n",
      "async-generator                    1.10\n",
      "atomicwrites                       1.4.0\n",
      "attrs                              20.3.0\n",
      "autopep8                           1.5.4\n",
      "Babel                              2.8.1\n",
      "backcall                           0.2.0\n",
      "backports.functools-lru-cache      1.6.1\n",
      "backports.shutil-get-terminal-size 1.0.0\n",
      "backports.tempfile                 1.0\n",
      "backports.weakref                  1.0.post1\n",
      "beautifulsoup4                     4.9.3\n",
      "bitarray                           1.6.1\n",
      "bkcharts                           0.2\n",
      "bleach                             3.2.1\n",
      "bokeh                              2.2.3\n",
      "boto                               2.49.0\n",
      "Bottleneck                         1.3.2\n",
      "brotlipy                           0.7.0\n",
      "cachetools                         4.2.4\n",
      "certifi                            2020.6.20\n",
      "cffi                               1.14.3\n",
      "chardet                            3.0.4\n",
      "clang                              5.0\n",
      "click                              7.1.2\n",
      "cloudpickle                        1.6.0\n",
      "clyent                             1.2.2\n",
      "colorama                           0.4.4\n",
      "conda                              4.9.2\n",
      "conda-build                        3.20.5\n",
      "conda-package-handling             1.7.2\n",
      "conda-verify                       3.4.2\n",
      "contextlib2                        0.6.0.post1\n",
      "cryptography                       3.1.1\n",
      "cycler                             0.10.0\n",
      "Cython                             0.29.21\n",
      "cytoolz                            0.11.0\n",
      "dask                               2.30.0\n",
      "decorator                          4.4.2\n",
      "defusedxml                         0.6.0\n",
      "diff-match-patch                   20200713\n",
      "distributed                        2.30.1\n",
      "docutils                           0.16\n",
      "entrypoints                        0.3\n",
      "et-xmlfile                         1.0.1\n",
      "fastcache                          1.1.0\n",
      "filelock                           3.0.12\n",
      "flake8                             3.8.4\n",
      "Flask                              1.1.2\n",
      "flatbuffers                        1.12\n",
      "fsspec                             0.8.3\n",
      "future                             0.18.2\n",
      "gast                               0.4.0\n",
      "geffnet                            0.9.8\n",
      "gevent                             20.9.0\n",
      "glob2                              0.7\n",
      "gmpy2                              2.0.8\n",
      "google-auth                        2.3.0\n",
      "google-auth-oauthlib               0.4.6\n",
      "google-pasta                       0.2.0\n",
      "greenlet                           0.4.17\n",
      "grpcio                             1.41.0\n",
      "h5py                               3.1.0\n",
      "HeapDict                           1.0.1\n",
      "html5lib                           1.1\n",
      "idna                               2.10\n",
      "imageio                            2.9.0\n",
      "imagesize                          1.2.0\n",
      "imbalanced-learn                   0.9.0\n",
      "imgaug                             0.4.0\n",
      "importlib-metadata                 2.0.0\n",
      "iniconfig                          1.1.1\n",
      "intervaltree                       3.1.0\n",
      "ipykernel                          5.3.4\n",
      "ipython                            7.19.0\n",
      "ipython-genutils                   0.2.0\n",
      "ipywidgets                         7.5.1\n",
      "isort                              5.6.4\n",
      "itsdangerous                       1.1.0\n",
      "jdcal                              1.4.1\n",
      "jedi                               0.17.1\n",
      "jeepney                            0.5.0\n",
      "Jinja2                             2.11.2\n",
      "joblib                             0.17.0\n",
      "json5                              0.9.5\n",
      "jsonschema                         3.2.0\n",
      "jupyter                            1.0.0\n",
      "jupyter-client                     6.1.7\n",
      "jupyter-console                    6.2.0\n",
      "jupyter-core                       4.6.3\n",
      "jupyterlab                         2.2.6\n",
      "jupyterlab-pygments                0.1.2\n",
      "jupyterlab-server                  1.2.0\n",
      "keras                              2.6.0\n",
      "Keras-Preprocessing                1.1.2\n",
      "keyring                            21.4.0\n",
      "kiwisolver                         1.3.0\n",
      "lazy-object-proxy                  1.4.3\n",
      "libarchive-c                       2.9\n",
      "llvmlite                           0.34.0\n",
      "locket                             0.2.0\n",
      "lxml                               4.6.1\n",
      "Markdown                           3.3.4\n",
      "MarkupSafe                         1.1.1\n",
      "matplotlib                         3.3.2\n",
      "mccabe                             0.6.1\n",
      "mistune                            0.8.4\n",
      "mkl-fft                            1.2.0\n",
      "mkl-random                         1.1.1\n",
      "mkl-service                        2.3.0\n",
      "mock                               4.0.2\n",
      "more-itertools                     8.6.0\n",
      "mpmath                             1.1.0\n",
      "msgpack                            1.0.0\n",
      "multipledispatch                   0.6.0\n",
      "navigator-updater                  0.2.1\n",
      "nbclient                           0.5.1\n",
      "nbconvert                          6.0.7\n",
      "nbformat                           5.0.8\n",
      "nest-asyncio                       1.4.2\n",
      "networkx                           2.5\n",
      "nltk                               3.5\n",
      "nose                               1.3.7\n",
      "notebook                           6.1.4\n",
      "numba                              0.51.2\n",
      "numexpr                            2.7.1\n",
      "numpy                              1.19.5\n",
      "numpydoc                           1.1.0\n",
      "oauthlib                           3.1.1\n",
      "olefile                            0.46\n",
      "opencv-python                      4.4.0.42\n",
      "opencv-python-headless             4.5.1.48\n",
      "openpyxl                           3.0.5\n",
      "opt-einsum                         3.3.0\n",
      "packaging                          20.4\n",
      "pandas                             1.3.3\n",
      "pandocfilters                      1.4.3\n",
      "parso                              0.7.0\n",
      "partd                              1.1.0\n",
      "path                               15.0.0\n",
      "pathlib2                           2.3.5\n",
      "pathtools                          0.1.2\n",
      "patsy                              0.5.1\n",
      "pep8                               1.7.1\n",
      "pexpect                            4.8.0\n",
      "pickleshare                        0.7.5\n",
      "Pillow                             7.2.0\n",
      "pip                                20.2.4\n",
      "pkginfo                            1.6.1\n",
      "pluggy                             0.13.1\n",
      "ply                                3.11\n",
      "prometheus-client                  0.8.0\n",
      "prompt-toolkit                     3.0.8\n",
      "protobuf                           3.18.1\n",
      "psutil                             5.7.2\n",
      "ptyprocess                         0.6.0\n",
      "py                                 1.9.0\n",
      "pyasn1                             0.4.8\n",
      "pyasn1-modules                     0.2.8\n",
      "pycodestyle                        2.6.0\n",
      "pycosat                            0.6.3\n",
      "pycparser                          2.20\n",
      "pycurl                             7.43.0.6\n",
      "pydocstyle                         5.1.1\n",
      "pyflakes                           2.2.0\n",
      "Pygments                           2.7.2\n",
      "pylint                             2.6.0\n",
      "pyodbc                             4.0.0-unsupported\n",
      "pyOpenSSL                          19.1.0\n",
      "pyparsing                          2.4.7\n",
      "pyreadr                            0.4.4\n",
      "pyrsistent                         0.17.3\n",
      "PySocks                            1.7.1\n",
      "pytest                             0.0.0\n",
      "python-dateutil                    2.8.1\n",
      "python-jsonrpc-server              0.4.0\n",
      "python-language-server             0.35.1\n",
      "pytz                               2020.1\n",
      "PyWavelets                         1.1.1\n",
      "pyxdg                              0.27\n",
      "PyYAML                             5.3.1\n",
      "pyzmq                              19.0.2\n",
      "QDarkStyle                         2.8.1\n",
      "QtAwesome                          1.0.1\n",
      "qtconsole                          4.7.7\n",
      "QtPy                               1.9.0\n",
      "regex                              2020.10.15\n",
      "requests                           2.24.0\n",
      "requests-oauthlib                  1.3.0\n",
      "resnest                            0.0.6b20200823\n",
      "rope                               0.18.0\n",
      "rsa                                4.7.2\n",
      "Rtree                              0.9.4\n",
      "ruamel-yaml                        0.15.87\n",
      "scikit-image                       0.17.2\n",
      "scikit-learn                       1.0.1\n",
      "scipy                              1.5.2\n",
      "seaborn                            0.11.0\n",
      "SecretStorage                      3.1.2\n",
      "Send2Trash                         1.5.0\n",
      "setuptools                         50.3.1.post20201107\n",
      "Shapely                            1.7.1\n",
      "simplegeneric                      0.8.1\n",
      "singledispatch                     3.4.0.3\n",
      "sip                                4.19.13\n",
      "six                                1.15.0\n",
      "snowballstemmer                    2.0.0\n",
      "sortedcollections                  1.2.1\n",
      "sortedcontainers                   2.2.2\n",
      "soupsieve                          2.0.1\n",
      "Sphinx                             3.2.1\n",
      "sphinxcontrib-applehelp            1.0.2\n",
      "sphinxcontrib-devhelp              1.0.2\n",
      "sphinxcontrib-htmlhelp             1.0.3\n",
      "sphinxcontrib-jsmath               1.0.1\n",
      "sphinxcontrib-qthelp               1.0.3\n",
      "sphinxcontrib-serializinghtml      1.1.4\n",
      "sphinxcontrib-websupport           1.2.4\n",
      "spyder                             4.1.5\n",
      "spyder-kernels                     1.9.4\n",
      "SQLAlchemy                         1.3.20\n",
      "statsmodels                        0.12.0\n",
      "sympy                              1.6.2\n",
      "tables                             3.6.1\n",
      "tblib                              1.7.0\n",
      "tensorboard                        2.7.0\n",
      "tensorboard-data-server            0.6.1\n",
      "tensorboard-plugin-wit             1.8.0\n",
      "tensorflow                         2.6.0\n",
      "tensorflow-estimator               2.6.0\n",
      "termcolor                          1.1.0\n",
      "terminado                          0.9.1\n",
      "testpath                           0.4.4\n",
      "threadpoolctl                      2.1.0\n",
      "tifffile                           2020.10.1\n",
      "toml                               0.10.1\n",
      "toolz                              0.11.1\n",
      "torch                              1.5.0\n",
      "torchvision                        0.9.1\n",
      "tornado                            6.0.4\n",
      "tqdm                               4.31.1\n",
      "traitlets                          5.0.5\n",
      "typing-extensions                  3.7.4.3\n",
      "ujson                              4.0.1\n",
      "unicodecsv                         0.14.1\n",
      "urllib3                            1.25.11\n",
      "watchdog                           0.10.3\n",
      "wcwidth                            0.2.5\n",
      "webencodings                       0.5.1\n",
      "Werkzeug                           1.0.1\n",
      "wheel                              0.35.1\n",
      "widgetsnbextension                 3.5.1\n",
      "wrapt                              1.12.1\n",
      "wurlitzer                          2.0.1\n",
      "xlrd                               1.2.0\n",
      "XlsxWriter                         1.3.7\n",
      "xlwt                               1.3.0\n",
      "xmltodict                          0.12.0\n",
      "yapf                               0.30.0\n",
      "zict                               2.0.0\n",
      "zipp                               3.4.0\n",
      "zope.event                         4.5.0\n",
      "zope.interface                     5.1.2\n"
     ]
    }
   ],
   "source": [
    "!pip list"
   ]
  },
  {
   "cell_type": "markdown",
   "metadata": {},
   "source": [
    "## Import Libraries"
   ]
  },
  {
   "cell_type": "code",
   "execution_count": 12,
   "metadata": {},
   "outputs": [],
   "source": [
    "import os\n",
    "import numpy as np\n",
    "import pandas as pd\n",
    "import matplotlib.pyplot as plt\n",
    "import torch\n",
    "import torch.nn as nn\n",
    "import time\n",
    "import seaborn as sns\n",
    "\n",
    "from tqdm import tqdm\n",
    "from pathlib import Path\n",
    "from pyreadr import read_r\n",
    "from sklearn.model_selection import train_test_split\n",
    "from sklearn.preprocessing import OneHotEncoder\n",
    "from torch.nn import CrossEntropyLoss\n",
    "from torch.optim import Adam\n",
    "from torch.utils.data import Dataset\n",
    "from sklearn.decomposition import PCA\n",
    "from imblearn.over_sampling import SMOTE, RandomOverSampler\n",
    "from collections import Counter"
   ]
  },
  {
   "cell_type": "markdown",
   "metadata": {},
   "source": [
    "## Configs"
   ]
  },
  {
   "cell_type": "markdown",
   "metadata": {},
   "source": [
    "### Paths"
   ]
  },
  {
   "cell_type": "code",
   "execution_count": 13,
   "metadata": {},
   "outputs": [],
   "source": [
    "cwd = os.getcwd()\n",
    "parent_dir = Path(cwd).parent.absolute()\n",
    "root_dir = parent_dir.parent.absolute() \n",
    "CSV_PATH = os.path.join(root_dir, 'Dataset', 'csv', 'total_1.0.csv')\n",
    "BEST_STATE_PATH = os.path.join(root_dir, 'Saved_models', 'Best_weight', 'best_state.pth')\n",
    "BEST_MODEL_PATH = os.path.join(root_dir, 'Saved_models', 'Best_model', 'best_model.pth')"
   ]
  },
  {
   "cell_type": "markdown",
   "metadata": {},
   "source": [
    "### Params"
   ]
  },
  {
   "cell_type": "code",
   "execution_count": 14,
   "metadata": {},
   "outputs": [],
   "source": [
    "device = ('cuda' if torch.cuda.is_available() else 'cpu')\n",
    "n_features = 10000\n",
    "n_classes = 91\n",
    "n_epochs = 30\n",
    "train_batch_size = 8\n",
    "val_batch_size = 16\n",
    "FIRST_TIME = True"
   ]
  },
  {
   "cell_type": "code",
   "execution_count": 15,
   "metadata": {},
   "outputs": [
    {
     "data": {
      "text/plain": [
       "'cuda'"
      ]
     },
     "execution_count": 15,
     "metadata": {},
     "output_type": "execute_result"
    }
   ],
   "source": [
    "device"
   ]
  },
  {
   "cell_type": "markdown",
   "metadata": {},
   "source": [
    "## Prepare Data"
   ]
  },
  {
   "cell_type": "markdown",
   "metadata": {},
   "source": [
    "### Read From CSV Into Dataframes"
   ]
  },
  {
   "cell_type": "code",
   "execution_count": 16,
   "metadata": {},
   "outputs": [
    {
     "data": {
      "text/html": [
       "<div>\n",
       "<style scoped>\n",
       "    .dataframe tbody tr th:only-of-type {\n",
       "        vertical-align: middle;\n",
       "    }\n",
       "\n",
       "    .dataframe tbody tr th {\n",
       "        vertical-align: top;\n",
       "    }\n",
       "\n",
       "    .dataframe thead th {\n",
       "        text-align: right;\n",
       "    }\n",
       "</style>\n",
       "<table border=\"1\" class=\"dataframe\">\n",
       "  <thead>\n",
       "    <tr style=\"text-align: right;\">\n",
       "      <th></th>\n",
       "      <th>cg22054918</th>\n",
       "      <th>cg16476975</th>\n",
       "      <th>cg03940848</th>\n",
       "      <th>cg25570913</th>\n",
       "      <th>cg02809746</th>\n",
       "      <th>cg01517680</th>\n",
       "      <th>cg04110886</th>\n",
       "      <th>cg18222083</th>\n",
       "      <th>cg05649108</th>\n",
       "      <th>cg08141395</th>\n",
       "      <th>...</th>\n",
       "      <th>cg26505478</th>\n",
       "      <th>cg06075311</th>\n",
       "      <th>cg19145082</th>\n",
       "      <th>cg26691179</th>\n",
       "      <th>cg04842161</th>\n",
       "      <th>cg07621803</th>\n",
       "      <th>cg21100077</th>\n",
       "      <th>cg00703120</th>\n",
       "      <th>cg00540828</th>\n",
       "      <th>label</th>\n",
       "    </tr>\n",
       "  </thead>\n",
       "  <tbody>\n",
       "    <tr>\n",
       "      <th>5684819014_R03C02</th>\n",
       "      <td>0.947269</td>\n",
       "      <td>0.008453</td>\n",
       "      <td>0.123884</td>\n",
       "      <td>0.963694</td>\n",
       "      <td>0.494731</td>\n",
       "      <td>0.028322</td>\n",
       "      <td>0.055772</td>\n",
       "      <td>0.014548</td>\n",
       "      <td>0.038964</td>\n",
       "      <td>0.850487</td>\n",
       "      <td>...</td>\n",
       "      <td>0.000000</td>\n",
       "      <td>0.209100</td>\n",
       "      <td>0.202847</td>\n",
       "      <td>0.225260</td>\n",
       "      <td>0.049959</td>\n",
       "      <td>0.949485</td>\n",
       "      <td>0.888074</td>\n",
       "      <td>0.679235</td>\n",
       "      <td>0.187460</td>\n",
       "      <td>GBM, G34</td>\n",
       "    </tr>\n",
       "    <tr>\n",
       "      <th>5684819014_R05C02</th>\n",
       "      <td>0.719027</td>\n",
       "      <td>0.067590</td>\n",
       "      <td>0.000000</td>\n",
       "      <td>0.885362</td>\n",
       "      <td>0.772570</td>\n",
       "      <td>0.704825</td>\n",
       "      <td>0.170992</td>\n",
       "      <td>0.000000</td>\n",
       "      <td>0.809885</td>\n",
       "      <td>0.044992</td>\n",
       "      <td>...</td>\n",
       "      <td>0.011448</td>\n",
       "      <td>0.090918</td>\n",
       "      <td>0.107293</td>\n",
       "      <td>0.170331</td>\n",
       "      <td>0.303312</td>\n",
       "      <td>0.932520</td>\n",
       "      <td>0.720423</td>\n",
       "      <td>0.812766</td>\n",
       "      <td>0.991197</td>\n",
       "      <td>DMG, K27</td>\n",
       "    </tr>\n",
       "    <tr>\n",
       "      <th>5684819014_R06C02</th>\n",
       "      <td>0.986904</td>\n",
       "      <td>0.000000</td>\n",
       "      <td>0.038046</td>\n",
       "      <td>1.000000</td>\n",
       "      <td>0.975408</td>\n",
       "      <td>0.000217</td>\n",
       "      <td>0.079723</td>\n",
       "      <td>0.715507</td>\n",
       "      <td>0.996868</td>\n",
       "      <td>0.000000</td>\n",
       "      <td>...</td>\n",
       "      <td>0.003699</td>\n",
       "      <td>0.292715</td>\n",
       "      <td>0.072444</td>\n",
       "      <td>0.454280</td>\n",
       "      <td>0.069150</td>\n",
       "      <td>0.926996</td>\n",
       "      <td>0.911045</td>\n",
       "      <td>0.844444</td>\n",
       "      <td>0.944158</td>\n",
       "      <td>DMG, K27</td>\n",
       "    </tr>\n",
       "    <tr>\n",
       "      <th>5684819013_R05C02</th>\n",
       "      <td>0.163068</td>\n",
       "      <td>0.231008</td>\n",
       "      <td>0.000000</td>\n",
       "      <td>0.947795</td>\n",
       "      <td>0.714640</td>\n",
       "      <td>0.032332</td>\n",
       "      <td>0.091954</td>\n",
       "      <td>0.000000</td>\n",
       "      <td>0.871492</td>\n",
       "      <td>0.013984</td>\n",
       "      <td>...</td>\n",
       "      <td>0.000000</td>\n",
       "      <td>0.085011</td>\n",
       "      <td>0.080590</td>\n",
       "      <td>0.303145</td>\n",
       "      <td>0.396163</td>\n",
       "      <td>0.645922</td>\n",
       "      <td>0.824696</td>\n",
       "      <td>0.680867</td>\n",
       "      <td>1.000000</td>\n",
       "      <td>DMG, K27</td>\n",
       "    </tr>\n",
       "    <tr>\n",
       "      <th>5684819014_R03C01</th>\n",
       "      <td>0.972470</td>\n",
       "      <td>0.119748</td>\n",
       "      <td>0.008277</td>\n",
       "      <td>0.984159</td>\n",
       "      <td>0.914704</td>\n",
       "      <td>0.433428</td>\n",
       "      <td>0.014778</td>\n",
       "      <td>0.000502</td>\n",
       "      <td>0.951393</td>\n",
       "      <td>0.037316</td>\n",
       "      <td>...</td>\n",
       "      <td>0.532789</td>\n",
       "      <td>0.398517</td>\n",
       "      <td>0.309837</td>\n",
       "      <td>0.129453</td>\n",
       "      <td>0.117355</td>\n",
       "      <td>0.093597</td>\n",
       "      <td>0.898011</td>\n",
       "      <td>0.917079</td>\n",
       "      <td>1.000000</td>\n",
       "      <td>DMG, K27</td>\n",
       "    </tr>\n",
       "    <tr>\n",
       "      <th>...</th>\n",
       "      <td>...</td>\n",
       "      <td>...</td>\n",
       "      <td>...</td>\n",
       "      <td>...</td>\n",
       "      <td>...</td>\n",
       "      <td>...</td>\n",
       "      <td>...</td>\n",
       "      <td>...</td>\n",
       "      <td>...</td>\n",
       "      <td>...</td>\n",
       "      <td>...</td>\n",
       "      <td>...</td>\n",
       "      <td>...</td>\n",
       "      <td>...</td>\n",
       "      <td>...</td>\n",
       "      <td>...</td>\n",
       "      <td>...</td>\n",
       "      <td>...</td>\n",
       "      <td>...</td>\n",
       "      <td>...</td>\n",
       "      <td>...</td>\n",
       "    </tr>\n",
       "    <tr>\n",
       "      <th>200091640051_R01C02</th>\n",
       "      <td>0.071838</td>\n",
       "      <td>0.788916</td>\n",
       "      <td>0.518146</td>\n",
       "      <td>0.073368</td>\n",
       "      <td>0.917277</td>\n",
       "      <td>0.908486</td>\n",
       "      <td>1.000000</td>\n",
       "      <td>0.738451</td>\n",
       "      <td>0.022102</td>\n",
       "      <td>0.896812</td>\n",
       "      <td>...</td>\n",
       "      <td>0.041958</td>\n",
       "      <td>0.834287</td>\n",
       "      <td>0.721935</td>\n",
       "      <td>0.846085</td>\n",
       "      <td>0.086545</td>\n",
       "      <td>0.425349</td>\n",
       "      <td>0.277112</td>\n",
       "      <td>0.253946</td>\n",
       "      <td>0.905899</td>\n",
       "      <td>ENB, A</td>\n",
       "    </tr>\n",
       "    <tr>\n",
       "      <th>200091640051_R04C02</th>\n",
       "      <td>0.879886</td>\n",
       "      <td>0.963159</td>\n",
       "      <td>0.829632</td>\n",
       "      <td>0.066611</td>\n",
       "      <td>0.929978</td>\n",
       "      <td>0.961191</td>\n",
       "      <td>0.862995</td>\n",
       "      <td>0.815590</td>\n",
       "      <td>0.902938</td>\n",
       "      <td>0.863093</td>\n",
       "      <td>...</td>\n",
       "      <td>0.027656</td>\n",
       "      <td>0.719758</td>\n",
       "      <td>0.199823</td>\n",
       "      <td>0.859725</td>\n",
       "      <td>0.248218</td>\n",
       "      <td>0.339218</td>\n",
       "      <td>0.764695</td>\n",
       "      <td>0.268875</td>\n",
       "      <td>0.842302</td>\n",
       "      <td>ENB, A</td>\n",
       "    </tr>\n",
       "    <tr>\n",
       "      <th>200091640051_R06C02</th>\n",
       "      <td>0.183778</td>\n",
       "      <td>0.528951</td>\n",
       "      <td>0.839423</td>\n",
       "      <td>0.931243</td>\n",
       "      <td>0.748958</td>\n",
       "      <td>0.950534</td>\n",
       "      <td>0.166527</td>\n",
       "      <td>0.924846</td>\n",
       "      <td>0.749935</td>\n",
       "      <td>0.458329</td>\n",
       "      <td>...</td>\n",
       "      <td>0.026221</td>\n",
       "      <td>0.737446</td>\n",
       "      <td>0.120581</td>\n",
       "      <td>0.700668</td>\n",
       "      <td>0.190458</td>\n",
       "      <td>0.935168</td>\n",
       "      <td>0.824159</td>\n",
       "      <td>0.871991</td>\n",
       "      <td>1.000000</td>\n",
       "      <td>A IDH, HG</td>\n",
       "    </tr>\n",
       "    <tr>\n",
       "      <th>200091640059_R02C01</th>\n",
       "      <td>0.036189</td>\n",
       "      <td>0.091265</td>\n",
       "      <td>0.030045</td>\n",
       "      <td>0.210802</td>\n",
       "      <td>0.017907</td>\n",
       "      <td>0.236162</td>\n",
       "      <td>0.620858</td>\n",
       "      <td>0.113647</td>\n",
       "      <td>0.197062</td>\n",
       "      <td>0.101033</td>\n",
       "      <td>...</td>\n",
       "      <td>0.044161</td>\n",
       "      <td>0.087165</td>\n",
       "      <td>0.159322</td>\n",
       "      <td>0.288011</td>\n",
       "      <td>0.754489</td>\n",
       "      <td>0.829186</td>\n",
       "      <td>0.532604</td>\n",
       "      <td>0.829158</td>\n",
       "      <td>0.960378</td>\n",
       "      <td>LGG, DIG/DIA</td>\n",
       "    </tr>\n",
       "    <tr>\n",
       "      <th>200275560089_R06C02</th>\n",
       "      <td>0.181451</td>\n",
       "      <td>0.705000</td>\n",
       "      <td>0.027880</td>\n",
       "      <td>0.786675</td>\n",
       "      <td>0.031423</td>\n",
       "      <td>0.119872</td>\n",
       "      <td>0.254842</td>\n",
       "      <td>0.015441</td>\n",
       "      <td>0.095614</td>\n",
       "      <td>0.004125</td>\n",
       "      <td>...</td>\n",
       "      <td>0.419661</td>\n",
       "      <td>0.088097</td>\n",
       "      <td>0.148943</td>\n",
       "      <td>0.565082</td>\n",
       "      <td>0.504759</td>\n",
       "      <td>0.533740</td>\n",
       "      <td>0.600566</td>\n",
       "      <td>0.789892</td>\n",
       "      <td>0.985406</td>\n",
       "      <td>ANA PA</td>\n",
       "    </tr>\n",
       "  </tbody>\n",
       "</table>\n",
       "<p>2801 rows × 10001 columns</p>\n",
       "</div>"
      ],
      "text/plain": [
       "                     cg22054918  cg16476975  cg03940848  cg25570913  \\\n",
       "5684819014_R03C02      0.947269    0.008453    0.123884    0.963694   \n",
       "5684819014_R05C02      0.719027    0.067590    0.000000    0.885362   \n",
       "5684819014_R06C02      0.986904    0.000000    0.038046    1.000000   \n",
       "5684819013_R05C02      0.163068    0.231008    0.000000    0.947795   \n",
       "5684819014_R03C01      0.972470    0.119748    0.008277    0.984159   \n",
       "...                         ...         ...         ...         ...   \n",
       "200091640051_R01C02    0.071838    0.788916    0.518146    0.073368   \n",
       "200091640051_R04C02    0.879886    0.963159    0.829632    0.066611   \n",
       "200091640051_R06C02    0.183778    0.528951    0.839423    0.931243   \n",
       "200091640059_R02C01    0.036189    0.091265    0.030045    0.210802   \n",
       "200275560089_R06C02    0.181451    0.705000    0.027880    0.786675   \n",
       "\n",
       "                     cg02809746  cg01517680  cg04110886  cg18222083  \\\n",
       "5684819014_R03C02      0.494731    0.028322    0.055772    0.014548   \n",
       "5684819014_R05C02      0.772570    0.704825    0.170992    0.000000   \n",
       "5684819014_R06C02      0.975408    0.000217    0.079723    0.715507   \n",
       "5684819013_R05C02      0.714640    0.032332    0.091954    0.000000   \n",
       "5684819014_R03C01      0.914704    0.433428    0.014778    0.000502   \n",
       "...                         ...         ...         ...         ...   \n",
       "200091640051_R01C02    0.917277    0.908486    1.000000    0.738451   \n",
       "200091640051_R04C02    0.929978    0.961191    0.862995    0.815590   \n",
       "200091640051_R06C02    0.748958    0.950534    0.166527    0.924846   \n",
       "200091640059_R02C01    0.017907    0.236162    0.620858    0.113647   \n",
       "200275560089_R06C02    0.031423    0.119872    0.254842    0.015441   \n",
       "\n",
       "                     cg05649108  cg08141395  ...  cg26505478  cg06075311  \\\n",
       "5684819014_R03C02      0.038964    0.850487  ...    0.000000    0.209100   \n",
       "5684819014_R05C02      0.809885    0.044992  ...    0.011448    0.090918   \n",
       "5684819014_R06C02      0.996868    0.000000  ...    0.003699    0.292715   \n",
       "5684819013_R05C02      0.871492    0.013984  ...    0.000000    0.085011   \n",
       "5684819014_R03C01      0.951393    0.037316  ...    0.532789    0.398517   \n",
       "...                         ...         ...  ...         ...         ...   \n",
       "200091640051_R01C02    0.022102    0.896812  ...    0.041958    0.834287   \n",
       "200091640051_R04C02    0.902938    0.863093  ...    0.027656    0.719758   \n",
       "200091640051_R06C02    0.749935    0.458329  ...    0.026221    0.737446   \n",
       "200091640059_R02C01    0.197062    0.101033  ...    0.044161    0.087165   \n",
       "200275560089_R06C02    0.095614    0.004125  ...    0.419661    0.088097   \n",
       "\n",
       "                     cg19145082  cg26691179  cg04842161  cg07621803  \\\n",
       "5684819014_R03C02      0.202847    0.225260    0.049959    0.949485   \n",
       "5684819014_R05C02      0.107293    0.170331    0.303312    0.932520   \n",
       "5684819014_R06C02      0.072444    0.454280    0.069150    0.926996   \n",
       "5684819013_R05C02      0.080590    0.303145    0.396163    0.645922   \n",
       "5684819014_R03C01      0.309837    0.129453    0.117355    0.093597   \n",
       "...                         ...         ...         ...         ...   \n",
       "200091640051_R01C02    0.721935    0.846085    0.086545    0.425349   \n",
       "200091640051_R04C02    0.199823    0.859725    0.248218    0.339218   \n",
       "200091640051_R06C02    0.120581    0.700668    0.190458    0.935168   \n",
       "200091640059_R02C01    0.159322    0.288011    0.754489    0.829186   \n",
       "200275560089_R06C02    0.148943    0.565082    0.504759    0.533740   \n",
       "\n",
       "                     cg21100077  cg00703120  cg00540828         label  \n",
       "5684819014_R03C02      0.888074    0.679235    0.187460      GBM, G34  \n",
       "5684819014_R05C02      0.720423    0.812766    0.991197      DMG, K27  \n",
       "5684819014_R06C02      0.911045    0.844444    0.944158      DMG, K27  \n",
       "5684819013_R05C02      0.824696    0.680867    1.000000      DMG, K27  \n",
       "5684819014_R03C01      0.898011    0.917079    1.000000      DMG, K27  \n",
       "...                         ...         ...         ...           ...  \n",
       "200091640051_R01C02    0.277112    0.253946    0.905899        ENB, A  \n",
       "200091640051_R04C02    0.764695    0.268875    0.842302        ENB, A  \n",
       "200091640051_R06C02    0.824159    0.871991    1.000000     A IDH, HG  \n",
       "200091640059_R02C01    0.532604    0.829158    0.960378  LGG, DIG/DIA  \n",
       "200275560089_R06C02    0.600566    0.789892    0.985406        ANA PA  \n",
       "\n",
       "[2801 rows x 10001 columns]"
      ]
     },
     "execution_count": 16,
     "metadata": {},
     "output_type": "execute_result"
    }
   ],
   "source": [
    "df_total = pd.read_csv(CSV_PATH, index_col=0)\n",
    "df_total.fillna(0)\n",
    "df_total"
   ]
  },
  {
   "cell_type": "markdown",
   "metadata": {},
   "source": [
    "### Separate Features And Labels"
   ]
  },
  {
   "cell_type": "code",
   "execution_count": 17,
   "metadata": {},
   "outputs": [
    {
     "name": "stdout",
     "output_type": "stream",
     "text": [
      "(2801, 10000) (2801,) <class 'numpy.ndarray'> <class 'numpy.ndarray'>\n"
     ]
    }
   ],
   "source": [
    "features = np.array(df_total.iloc[:,:-1])\n",
    "labels = np.array(df_total.iloc[:,-1])\n",
    "print(features.shape, labels.shape, type(features), type(labels))"
   ]
  },
  {
   "cell_type": "code",
   "execution_count": 18,
   "metadata": {},
   "outputs": [
    {
     "name": "stdout",
     "output_type": "stream",
     "text": [
      "[0.94726853 0.00845275 0.12388393 ... 0.88807406 0.67923516 0.18746042] GBM, G34\n"
     ]
    }
   ],
   "source": [
    "print(features[0], labels[0])"
   ]
  },
  {
   "cell_type": "markdown",
   "metadata": {},
   "source": [
    "### PCA"
   ]
  },
  {
   "cell_type": "code",
   "execution_count": null,
   "metadata": {},
   "outputs": [],
   "source": [
    "features = PCA(n_components = 0.95).fit_transform(features)"
   ]
  },
  {
   "cell_type": "code",
   "execution_count": null,
   "metadata": {},
   "outputs": [
    {
     "name": "stdout",
     "output_type": "stream",
     "text": [
      "(2801, 10000)\n"
     ]
    }
   ],
   "source": [
    "print(features.shape)"
   ]
  },
  {
   "cell_type": "code",
   "execution_count": null,
   "metadata": {},
   "outputs": [
    {
     "name": "stdout",
     "output_type": "stream",
     "text": [
      "10000\n"
     ]
    }
   ],
   "source": [
    "n_features = features.shape[1]\n",
    "print(n_features)"
   ]
  },
  {
   "cell_type": "markdown",
   "metadata": {},
   "source": [
    "### Encode The Labels [1]"
   ]
  },
  {
   "cell_type": "code",
   "execution_count": null,
   "metadata": {},
   "outputs": [
    {
     "name": "stdout",
     "output_type": "stream",
     "text": [
      "{'A IDH': 0, 'A IDH, HG': 1, 'ANA PA': 2, 'ATRT, MYC': 3, 'ATRT, SHH': 4, 'ATRT, TYR': 5, 'CHGL': 6, 'CHORDM': 7, 'CN': 8, 'CNS NB, FOXR2': 9, 'CONTR, ADENOPIT': 10, 'CONTR, CEBM': 11, 'CONTR, HEMI': 12, 'CONTR, HYPTHAL': 13, 'CONTR, INFLAM': 14, 'CONTR, PINEAL': 15, 'CONTR, PONS': 16, 'CONTR, REACT': 17, 'CONTR, WM': 18, 'CPH, ADM': 19, 'CPH, PAP': 20, 'DLGNT': 21, 'DMG, K27': 22, 'EFT, CIC': 23, 'ENB, A': 24, 'ENB, B': 25, 'EPN, MPE': 26, 'EPN, PF A': 27, 'EPN, PF B': 28, 'EPN, RELA': 29, 'EPN, SPINE': 30, 'EPN, YAP': 31, 'ETMR': 32, 'EWS': 33, 'GBM, G34': 34, 'GBM, MES': 35, 'GBM, MID': 36, 'GBM, MYCN': 37, 'GBM, RTK I': 38, 'GBM, RTK II': 39, 'GBM, RTK III': 40, 'HGNET, BCOR': 41, 'HGNET, MN1': 42, 'HMB': 43, 'IHG': 44, 'LGG, DIG/DIA': 45, 'LGG, DNT': 46, 'LGG, GG': 47, 'LGG, MYB': 48, 'LGG, PA MID': 49, 'LGG, PA PF': 50, 'LGG, PA/GG ST': 51, 'LGG, RGNT': 52, 'LGG, SEGA': 53, 'LIPN': 54, 'LYMPHO': 55, 'MB, G3': 56, 'MB, G4': 57, 'MB, SHH CHL AD': 58, 'MB, SHH INF': 59, 'MB, WNT': 60, 'MELAN': 61, 'MELCYT': 62, 'MNG': 63, 'O IDH': 64, 'PGG, nC': 65, 'PIN T,  PB A': 66, 'PIN T,  PB B': 67, 'PIN T, PPT': 68, 'PITAD, ACTH': 69, 'PITAD, FSH LH': 70, 'PITAD, PRL': 71, 'PITAD, STH DNS A': 72, 'PITAD, STH DNS B': 73, 'PITAD, STH SPA': 74, 'PITAD, TSH': 75, 'PITUI': 76, 'PLASMA': 77, 'PLEX, AD': 78, 'PLEX, PED A ': 79, 'PLEX, PED B': 80, 'PTPR, A': 81, 'PTPR, B': 82, 'PXA': 83, 'RETB': 84, 'SCHW': 85, 'SCHW, MEL': 86, 'SFT HMPC': 87, 'SUBEPN, PF': 88, 'SUBEPN, SPINE': 89, 'SUBEPN, ST': 90}\n"
     ]
    }
   ],
   "source": [
    "# Label Encoding The Labels Ndarray\n",
    "label_codes = {label:index for index, label in enumerate(np.unique(labels))}\n",
    "print(label_codes)"
   ]
  },
  {
   "cell_type": "code",
   "execution_count": null,
   "metadata": {},
   "outputs": [
    {
     "name": "stdout",
     "output_type": "stream",
     "text": [
      "20 <class 'int'>\n",
      "-1\n"
     ]
    }
   ],
   "source": [
    "def get_label_code (label, label_codes):\n",
    "    if label in label_codes.keys():\n",
    "        return label_codes[label]\n",
    "    else:\n",
    "        return -1 \n",
    "\n",
    "print(get_label_code('CPH, PAP', label_codes), type(get_label_code('CPH, PAP', label_codes)))\n",
    "print(get_label_code('fuqhfueh', label_codes))"
   ]
  },
  {
   "cell_type": "code",
   "execution_count": null,
   "metadata": {},
   "outputs": [
    {
     "name": "stdout",
     "output_type": "stream",
     "text": [
      "[34 22 22 ...  1 45  2] (2801,)\n"
     ]
    }
   ],
   "source": [
    "encoded_labels = np.array([get_label_code(label, label_codes) for label in labels])\n",
    "print(encoded_labels, encoded_labels.shape)"
   ]
  },
  {
   "cell_type": "markdown",
   "metadata": {},
   "source": [
    "### Distribute Trainset and Testset"
   ]
  },
  {
   "cell_type": "code",
   "execution_count": null,
   "metadata": {},
   "outputs": [],
   "source": [
    "(train_features, test_features, train_labels, test_labels) = train_test_split(features, encoded_labels, test_size = 0.05, random_state = 42)"
   ]
  },
  {
   "cell_type": "code",
   "execution_count": null,
   "metadata": {},
   "outputs": [],
   "source": [
    "(train_features, val_features, train_labels, val_labels) = train_test_split(train_features, train_labels, test_size = 0.3, random_state = 42)"
   ]
  },
  {
   "cell_type": "code",
   "execution_count": null,
   "metadata": {},
   "outputs": [
    {
     "name": "stdout",
     "output_type": "stream",
     "text": [
      "(1862, 10000) (1862,) (798, 10000) (798,)\n"
     ]
    }
   ],
   "source": [
    "print(train_features.shape, train_labels.shape, val_features.shape, val_labels.shape)"
   ]
  },
  {
   "cell_type": "markdown",
   "metadata": {},
   "source": [
    "### Random Over Sampling"
   ]
  },
  {
   "cell_type": "code",
   "execution_count": null,
   "metadata": {},
   "outputs": [
    {
     "name": "stdout",
     "output_type": "stream",
     "text": [
      "Counter({39: 104, 57: 93, 50: 77, 64: 64, 27: 62, 63: 56, 22: 52, 58: 51, 0: 51, 56: 48, 29: 43, 28: 39, 35: 38, 38: 37, 1: 34, 34: 31, 59: 30, 46: 30, 83: 28, 4: 28, 49: 28, 32: 28, 80: 26, 9: 25, 60: 24, 5: 22, 3: 21, 88: 20, 51: 20, 26: 20, 76: 19, 85: 19, 14: 17, 19: 17, 42: 17, 47: 16, 48: 16, 20: 16, 69: 15, 70: 15, 67: 15, 30: 15, 82: 15, 2: 14, 8: 14, 43: 14, 78: 13, 90: 13, 84: 13, 74: 13, 53: 13, 24: 12, 87: 12, 17: 12, 79: 11, 62: 11, 41: 11, 37: 11, 31: 10, 65: 10, 25: 10, 33: 10, 23: 9, 68: 9, 6: 9, 15: 9, 40: 8, 55: 8, 44: 8, 7: 8, 18: 8, 61: 8, 73: 8, 36: 8, 21: 7, 54: 7, 16: 7, 86: 7, 52: 6, 81: 6, 12: 6, 10: 6, 71: 6, 13: 5, 75: 5, 77: 5, 66: 5, 89: 5, 45: 5, 72: 3, 11: 2})\n",
      "Counter({22: 104, 28: 104, 69: 104, 2: 104, 35: 104, 64: 104, 50: 104, 60: 104, 47: 104, 58: 104, 79: 104, 83: 104, 78: 104, 56: 104, 90: 104, 48: 104, 21: 104, 0: 104, 5: 104, 76: 104, 20: 104, 80: 104, 39: 104, 70: 104, 23: 104, 4: 104, 49: 104, 38: 104, 88: 104, 67: 104, 1: 104, 84: 104, 11: 104, 63: 104, 27: 104, 57: 104, 40: 104, 59: 104, 52: 104, 34: 104, 13: 104, 74: 104, 62: 104, 54: 104, 41: 104, 31: 104, 55: 104, 14: 104, 44: 104, 7: 104, 3: 104, 65: 104, 32: 104, 29: 104, 51: 104, 37: 104, 24: 104, 75: 104, 8: 104, 9: 104, 18: 104, 30: 104, 46: 104, 25: 104, 81: 104, 16: 104, 85: 104, 77: 104, 61: 104, 68: 104, 26: 104, 73: 104, 66: 104, 19: 104, 89: 104, 87: 104, 36: 104, 42: 104, 17: 104, 43: 104, 53: 104, 86: 104, 33: 104, 82: 104, 12: 104, 6: 104, 15: 104, 10: 104, 72: 104, 45: 104, 71: 104})\n"
     ]
    }
   ],
   "source": [
    "counter = Counter(train_labels)\n",
    "print(counter)\n",
    "over_sampler = RandomOverSampler(sampling_strategy='auto', random_state=42)\n",
    "train_features, train_labels = over_sampler.fit_resample(train_features, train_labels)\n",
    "counter = Counter(train_labels)\n",
    "print(counter)"
   ]
  },
  {
   "cell_type": "markdown",
   "metadata": {},
   "source": [
    "### Create Dataset Objects & Dataloader Objects"
   ]
  },
  {
   "cell_type": "code",
   "execution_count": null,
   "metadata": {},
   "outputs": [],
   "source": [
    "class BTMD (Dataset):\n",
    "    def __init__(self, features, labels, mode = 'train', split = None):\n",
    "        self.mode = mode\n",
    "        self.split = split\n",
    "        self.features = features\n",
    "        self.labels = labels\n",
    "    \n",
    "    def __len__(self):\n",
    "        return len(self.labels)\n",
    "    \n",
    "    def __getitem__(self, idx):\n",
    "        feature = self.features[idx]\n",
    "        label = self.labels[idx]\n",
    "        if self.mode == 'test':\n",
    "            return torch.tensor(feature).float()\n",
    "        else:\n",
    "            return torch.tensor(feature).float(), torch.tensor(label).long()\n",
    "    "
   ]
  },
  {
   "cell_type": "code",
   "execution_count": null,
   "metadata": {},
   "outputs": [],
   "source": [
    "train_dataset = BTMD(train_features, train_labels, mode = 'Train')\n",
    "val_dataset = BTMD(val_features, val_labels, mode = 'Val')\n",
    "test_dataset = BTMD(test_features, test_labels, mode = 'Test')"
   ]
  },
  {
   "cell_type": "code",
   "execution_count": null,
   "metadata": {},
   "outputs": [
    {
     "name": "stdout",
     "output_type": "stream",
     "text": [
      "9464 798 141\n"
     ]
    }
   ],
   "source": [
    "print(len(train_dataset), len(val_dataset), len(test_dataset))"
   ]
  },
  {
   "cell_type": "code",
   "execution_count": null,
   "metadata": {},
   "outputs": [
    {
     "name": "stdout",
     "output_type": "stream",
     "text": [
      "(tensor([0.9285, 0.1503, 0.0140,  ..., 0.7881, 0.8023, 0.4802]), tensor(22))\n"
     ]
    }
   ],
   "source": [
    "print(train_dataset[0])"
   ]
  },
  {
   "cell_type": "code",
   "execution_count": null,
   "metadata": {},
   "outputs": [],
   "source": [
    "train_loader = torch.utils.data.DataLoader(train_dataset, batch_size = train_batch_size, shuffle = True, num_workers=2)\n",
    "val_loader = torch.utils.data.DataLoader(val_dataset, batch_size = val_batch_size, shuffle = True, num_workers=3)"
   ]
  },
  {
   "cell_type": "markdown",
   "metadata": {},
   "source": [
    "## Build Model"
   ]
  },
  {
   "cell_type": "markdown",
   "metadata": {},
   "source": [
    "### Define Model Architecture"
   ]
  },
  {
   "cell_type": "code",
   "execution_count": null,
   "metadata": {},
   "outputs": [],
   "source": [
    "class DNAMicroarrayNet (nn.Module):\n",
    "    def __init__ (self, in_features, n_classes):\n",
    "        super(DNAMicroarrayNet, self).__init__()\n",
    "        self.in_features = in_features\n",
    "        self.n_classes = n_classes\n",
    "        self.densenet = nn.Sequential(\n",
    "            nn.Linear(self.in_features, 64),\n",
    "            nn.ReLU(),\n",
    "            nn.Linear(64, 32),\n",
    "            nn.ReLU(),\n",
    "            nn.Linear(32, n_classes),\n",
    "        )\n",
    "        \n",
    "    def forward (self, x):\n",
    "        x = self.densenet(x)\n",
    "        return x\n",
    "        "
   ]
  },
  {
   "cell_type": "code",
   "execution_count": null,
   "metadata": {},
   "outputs": [],
   "source": [
    "model = DNAMicroarrayNet(n_features, n_classes)\n",
    "if FIRST_TIME == False:\n",
    "    model.load_state_dict((torch.load(BEST_STATE_PATH)))"
   ]
  },
  {
   "cell_type": "markdown",
   "metadata": {},
   "source": [
    "## Train And Validate Model"
   ]
  },
  {
   "cell_type": "markdown",
   "metadata": {},
   "source": [
    "### Define Loss And Optimizer"
   ]
  },
  {
   "cell_type": "code",
   "execution_count": null,
   "metadata": {},
   "outputs": [],
   "source": [
    "lr = 1e-4\n",
    "weight_decay = 0"
   ]
  },
  {
   "cell_type": "code",
   "execution_count": null,
   "metadata": {},
   "outputs": [],
   "source": [
    "criterion = CrossEntropyLoss(weight=None)\n",
    "optimizer = Adam(model.parameters(), lr=lr, weight_decay=weight_decay)"
   ]
  },
  {
   "cell_type": "markdown",
   "metadata": {},
   "source": [
    "### Define Train And Val Pipeline"
   ]
  },
  {
   "cell_type": "markdown",
   "metadata": {},
   "source": [
    "(remember to move tensors into GPU before feeding to neural network)"
   ]
  },
  {
   "cell_type": "code",
   "execution_count": null,
   "metadata": {},
   "outputs": [],
   "source": [
    "def train_epoch(epoch, model, train_loader, criterion, optimizer, train_accs, train_losses):\n",
    "    # print('Training: ')\n",
    "    total_loss = 0\n",
    "    correct = 0\n",
    "    total = 0\n",
    "    model.train()\n",
    "    # For loop through all batches\n",
    "    for features, labels in tqdm(train_loader):\n",
    "        # Move tensors to GPU\n",
    "        features = features.to(device)\n",
    "        labels = labels.to(device)\n",
    "        \n",
    "        # Zero out gradient\n",
    "        optimizer.zero_grad()\n",
    "        \n",
    "        # Forward pass\n",
    "        outputs = model(features)\n",
    "        loss = criterion(outputs, labels)\n",
    "        \n",
    "        # Backward pass\n",
    "        loss.backward()\n",
    "        optimizer.step()\n",
    "        \n",
    "        # Evaluation\n",
    "        total_loss += loss.item()\n",
    "        _, predicted = outputs.max(1)\n",
    "        correct += predicted.eq(labels).sum().item()\n",
    "        total += labels.size(0)\n",
    "        \n",
    "    # Averaging the loss for the whole epoch\n",
    "    train_loss = total_loss / len(train_loader)\n",
    "    train_acc = (correct / total) * 100.\n",
    "    train_accs.append(train_acc)\n",
    "    train_losses.append(train_loss)\n",
    "    \n",
    "    # print('train_loss: %.5f | train_acc: %.3f' % (train_loss, train_acc))\n",
    "    return train_loss, train_acc\n",
    "        \n",
    "        \n",
    "        "
   ]
  },
  {
   "cell_type": "code",
   "execution_count": null,
   "metadata": {},
   "outputs": [],
   "source": [
    "def val_epoch(epoch, model, val_loader, criterion, val_accs, val_losses):\n",
    "    # print('Validating: ')\n",
    "    total_loss = 0\n",
    "    correct = 0\n",
    "    total = 0\n",
    "    \n",
    "    # For loop through all batches\n",
    "    with torch.no_grad():\n",
    "        # For loop through all batches\n",
    "        for features, labels in tqdm(val_loader):\n",
    "            # Move tensors to GPU\n",
    "            features, labels = features.to(device), labels.to(device)\n",
    "            \n",
    "            # Forward pass\n",
    "            outputs = model(features)\n",
    "            loss = criterion(outputs, labels)\n",
    "            \n",
    "            # Evaluation\n",
    "            total_loss += loss.item()\n",
    "            _, predicted = outputs.max(1)\n",
    "            correct += predicted.eq(labels).sum().item()\n",
    "            total  += labels.size(0)\n",
    "        \n",
    "        # Averaging the loss for the whole epoch\n",
    "        val_loss = total_loss / len(val_loader)\n",
    "        val_acc = (correct / total) * 100\n",
    "        val_losses.append(val_loss)\n",
    "        val_accs.append(val_acc)\n",
    "        \n",
    "        # print('val_loss: %.5f | val_acc: %.3f' % (val_loss, val_acc))\n",
    "    return val_loss, val_acc \n",
    "        "
   ]
  },
  {
   "cell_type": "markdown",
   "metadata": {},
   "source": [
    "## Run"
   ]
  },
  {
   "cell_type": "code",
   "execution_count": null,
   "metadata": {},
   "outputs": [
    {
     "name": "stderr",
     "output_type": "stream",
     "text": [
      "  0%|          | 0/1183 [00:00<?, ?it/s]"
     ]
    },
    {
     "name": "stdout",
     "output_type": "stream",
     "text": [
      "Epoch 1/30: \n"
     ]
    },
    {
     "name": "stderr",
     "output_type": "stream",
     "text": [
      "100%|██████████| 1183/1183 [00:03<00:00, 302.65it/s]\n",
      "100%|██████████| 50/50 [00:00<00:00, 341.40it/s]\n",
      "  0%|          | 0/1183 [00:00<?, ?it/s]"
     ]
    },
    {
     "name": "stdout",
     "output_type": "stream",
     "text": [
      "train_loss: 3.84008 | train_acc: 12.658\n",
      "val_loss: 2.71190 | val_acc: 33.835\n",
      "Best validation accuracy => saving model weights...\n",
      "-------------------------------------------\n",
      "Epoch 2/30: \n"
     ]
    },
    {
     "name": "stderr",
     "output_type": "stream",
     "text": [
      "100%|██████████| 1183/1183 [00:02<00:00, 553.25it/s]\n",
      "100%|██████████| 50/50 [00:00<00:00, 348.02it/s]\n",
      "  0%|          | 0/1183 [00:00<?, ?it/s]"
     ]
    },
    {
     "name": "stdout",
     "output_type": "stream",
     "text": [
      "train_loss: 1.86512 | train_acc: 61.454\n",
      "val_loss: 1.19334 | val_acc: 76.692\n",
      "Best validation accuracy => saving model weights...\n",
      "-------------------------------------------\n",
      "Epoch 3/30: \n"
     ]
    },
    {
     "name": "stderr",
     "output_type": "stream",
     "text": [
      "100%|██████████| 1183/1183 [00:02<00:00, 572.81it/s]\n",
      "100%|██████████| 50/50 [00:00<00:00, 345.28it/s]\n",
      "  0%|          | 0/1183 [00:00<?, ?it/s]"
     ]
    },
    {
     "name": "stdout",
     "output_type": "stream",
     "text": [
      "train_loss: 0.92131 | train_acc: 84.795\n",
      "val_loss: 0.72937 | val_acc: 82.707\n",
      "Best validation accuracy => saving model weights...\n",
      "-------------------------------------------\n",
      "Epoch 4/30: \n"
     ]
    },
    {
     "name": "stderr",
     "output_type": "stream",
     "text": [
      "100%|██████████| 1183/1183 [00:02<00:00, 556.92it/s]\n",
      "100%|██████████| 50/50 [00:00<00:00, 350.68it/s]\n",
      "  0%|          | 0/1183 [00:00<?, ?it/s]"
     ]
    },
    {
     "name": "stdout",
     "output_type": "stream",
     "text": [
      "train_loss: 0.54581 | train_acc: 92.498\n",
      "val_loss: 0.52683 | val_acc: 88.847\n",
      "Best validation accuracy => saving model weights...\n",
      "-------------------------------------------\n",
      "Epoch 5/30: \n"
     ]
    },
    {
     "name": "stderr",
     "output_type": "stream",
     "text": [
      "100%|██████████| 1183/1183 [00:02<00:00, 563.67it/s]\n",
      "100%|██████████| 50/50 [00:00<00:00, 354.00it/s]\n"
     ]
    },
    {
     "name": "stdout",
     "output_type": "stream",
     "text": [
      "train_loss: 0.35452 | train_acc: 95.509\n",
      "val_loss: 0.41638 | val_acc: 89.975\n",
      "Best validation accuracy => saving model weights...\n"
     ]
    },
    {
     "name": "stderr",
     "output_type": "stream",
     "text": [
      "  0%|          | 0/1183 [00:00<?, ?it/s]"
     ]
    },
    {
     "name": "stdout",
     "output_type": "stream",
     "text": [
      "-------------------------------------------\n",
      "Epoch 6/30: \n"
     ]
    },
    {
     "name": "stderr",
     "output_type": "stream",
     "text": [
      "100%|██████████| 1183/1183 [00:02<00:00, 541.04it/s]\n",
      "100%|██████████| 50/50 [00:00<00:00, 344.36it/s]\n",
      "  0%|          | 0/1183 [00:00<?, ?it/s]"
     ]
    },
    {
     "name": "stdout",
     "output_type": "stream",
     "text": [
      "train_loss: 0.24380 | train_acc: 97.084\n",
      "val_loss: 0.32579 | val_acc: 91.353\n",
      "Best validation accuracy => saving model weights...\n",
      "-------------------------------------------\n",
      "Epoch 7/30: \n"
     ]
    },
    {
     "name": "stderr",
     "output_type": "stream",
     "text": [
      "100%|██████████| 1183/1183 [00:02<00:00, 553.42it/s]\n",
      "100%|██████████| 50/50 [00:00<00:00, 343.96it/s]\n",
      "  0%|          | 0/1183 [00:00<?, ?it/s]"
     ]
    },
    {
     "name": "stdout",
     "output_type": "stream",
     "text": [
      "train_loss: 0.17339 | train_acc: 97.770\n",
      "val_loss: 0.33274 | val_acc: 89.599\n",
      "Patience = {patience}\n",
      "-------------------------------------------\n",
      "Epoch 8/30: \n"
     ]
    },
    {
     "name": "stderr",
     "output_type": "stream",
     "text": [
      "100%|██████████| 1183/1183 [00:02<00:00, 550.52it/s]\n",
      "100%|██████████| 50/50 [00:00<00:00, 343.34it/s]\n",
      "  0%|          | 0/1183 [00:00<?, ?it/s]"
     ]
    },
    {
     "name": "stdout",
     "output_type": "stream",
     "text": [
      "train_loss: 0.12910 | train_acc: 98.309\n",
      "val_loss: 0.28123 | val_acc: 91.103\n",
      "-------------------------------------------\n",
      "Epoch 9/30: \n"
     ]
    },
    {
     "name": "stderr",
     "output_type": "stream",
     "text": [
      "100%|██████████| 1183/1183 [00:02<00:00, 558.28it/s]\n",
      "100%|██████████| 50/50 [00:00<00:00, 357.58it/s]\n",
      "  0%|          | 0/1183 [00:00<?, ?it/s]"
     ]
    },
    {
     "name": "stdout",
     "output_type": "stream",
     "text": [
      "train_loss: 0.09760 | train_acc: 98.637\n",
      "val_loss: 0.23364 | val_acc: 92.231\n",
      "Best validation accuracy => saving model weights...\n",
      "-------------------------------------------\n",
      "Epoch 10/30: \n"
     ]
    },
    {
     "name": "stderr",
     "output_type": "stream",
     "text": [
      "100%|██████████| 1183/1183 [00:02<00:00, 570.12it/s]\n",
      "100%|██████████| 50/50 [00:00<00:00, 346.19it/s]\n",
      "  0%|          | 0/1183 [00:00<?, ?it/s]"
     ]
    },
    {
     "name": "stdout",
     "output_type": "stream",
     "text": [
      "train_loss: 0.07516 | train_acc: 98.954\n",
      "val_loss: 0.22069 | val_acc: 92.607\n",
      "Best validation accuracy => saving model weights...\n",
      "-------------------------------------------\n",
      "Epoch 11/30: \n"
     ]
    },
    {
     "name": "stderr",
     "output_type": "stream",
     "text": [
      "100%|██████████| 1183/1183 [00:02<00:00, 579.63it/s]\n",
      "100%|██████████| 50/50 [00:00<00:00, 309.70it/s]\n",
      "  0%|          | 0/1183 [00:00<?, ?it/s]"
     ]
    },
    {
     "name": "stdout",
     "output_type": "stream",
     "text": [
      "train_loss: 0.05896 | train_acc: 99.134\n",
      "val_loss: 0.20233 | val_acc: 93.358\n",
      "Best validation accuracy => saving model weights...\n",
      "-------------------------------------------\n",
      "Epoch 12/30: \n"
     ]
    },
    {
     "name": "stderr",
     "output_type": "stream",
     "text": [
      "100%|██████████| 1183/1183 [00:02<00:00, 555.22it/s]\n",
      "100%|██████████| 50/50 [00:00<00:00, 349.66it/s]\n",
      "  0%|          | 0/1183 [00:00<?, ?it/s]"
     ]
    },
    {
     "name": "stdout",
     "output_type": "stream",
     "text": [
      "train_loss: 0.04624 | train_acc: 99.429\n",
      "val_loss: 0.18223 | val_acc: 94.486\n",
      "Best validation accuracy => saving model weights...\n",
      "-------------------------------------------\n",
      "Epoch 13/30: \n"
     ]
    },
    {
     "name": "stderr",
     "output_type": "stream",
     "text": [
      "100%|██████████| 1183/1183 [00:02<00:00, 550.08it/s]\n",
      "100%|██████████| 50/50 [00:00<00:00, 354.27it/s]\n",
      "  0%|          | 0/1183 [00:00<?, ?it/s]"
     ]
    },
    {
     "name": "stdout",
     "output_type": "stream",
     "text": [
      "train_loss: 0.03709 | train_acc: 99.503\n",
      "val_loss: 0.18725 | val_acc: 93.609\n",
      "Patience = {patience}\n",
      "-------------------------------------------\n",
      "Epoch 14/30: \n"
     ]
    },
    {
     "name": "stderr",
     "output_type": "stream",
     "text": [
      "100%|██████████| 1183/1183 [00:02<00:00, 556.01it/s]\n",
      "100%|██████████| 50/50 [00:00<00:00, 352.63it/s]\n",
      "  0%|          | 0/1183 [00:00<?, ?it/s]"
     ]
    },
    {
     "name": "stdout",
     "output_type": "stream",
     "text": [
      "train_loss: 0.02985 | train_acc: 99.694\n",
      "val_loss: 0.17537 | val_acc: 94.612\n",
      "Best validation accuracy => saving model weights...\n",
      "-------------------------------------------\n",
      "Epoch 15/30: \n"
     ]
    },
    {
     "name": "stderr",
     "output_type": "stream",
     "text": [
      "100%|██████████| 1183/1183 [00:02<00:00, 542.90it/s]\n",
      "100%|██████████| 50/50 [00:00<00:00, 349.71it/s]\n",
      "  0%|          | 0/1183 [00:00<?, ?it/s]"
     ]
    },
    {
     "name": "stdout",
     "output_type": "stream",
     "text": [
      "train_loss: 0.02418 | train_acc: 99.736\n",
      "val_loss: 0.16322 | val_acc: 94.987\n",
      "Best validation accuracy => saving model weights...\n",
      "-------------------------------------------\n",
      "Epoch 16/30: \n"
     ]
    },
    {
     "name": "stderr",
     "output_type": "stream",
     "text": [
      "100%|██████████| 1183/1183 [00:02<00:00, 562.14it/s]\n",
      "100%|██████████| 50/50 [00:00<00:00, 325.77it/s]\n",
      "  0%|          | 0/1183 [00:00<?, ?it/s]"
     ]
    },
    {
     "name": "stdout",
     "output_type": "stream",
     "text": [
      "train_loss: 0.02052 | train_acc: 99.768\n",
      "val_loss: 0.15830 | val_acc: 93.985\n",
      "Patience = {patience}\n",
      "-------------------------------------------\n",
      "Epoch 17/30: \n"
     ]
    },
    {
     "name": "stderr",
     "output_type": "stream",
     "text": [
      "100%|██████████| 1183/1183 [00:02<00:00, 556.10it/s]\n",
      "100%|██████████| 50/50 [00:00<00:00, 344.27it/s]\n",
      "  0%|          | 0/1183 [00:00<?, ?it/s]"
     ]
    },
    {
     "name": "stdout",
     "output_type": "stream",
     "text": [
      "train_loss: 0.01581 | train_acc: 99.863\n",
      "val_loss: 0.15833 | val_acc: 94.361\n",
      "-------------------------------------------\n",
      "Epoch 18/30: \n"
     ]
    },
    {
     "name": "stderr",
     "output_type": "stream",
     "text": [
      "100%|██████████| 1183/1183 [00:02<00:00, 550.64it/s]\n",
      "100%|██████████| 50/50 [00:00<00:00, 349.54it/s]\n",
      "  0%|          | 0/1183 [00:00<?, ?it/s]"
     ]
    },
    {
     "name": "stdout",
     "output_type": "stream",
     "text": [
      "train_loss: 0.01405 | train_acc: 99.842\n",
      "val_loss: 0.15767 | val_acc: 94.486\n",
      "-------------------------------------------\n",
      "Epoch 19/30: \n"
     ]
    },
    {
     "name": "stderr",
     "output_type": "stream",
     "text": [
      "100%|██████████| 1183/1183 [00:02<00:00, 553.27it/s]\n",
      "100%|██████████| 50/50 [00:00<00:00, 334.54it/s]\n",
      "  0%|          | 0/1183 [00:00<?, ?it/s]"
     ]
    },
    {
     "name": "stdout",
     "output_type": "stream",
     "text": [
      "train_loss: 0.01158 | train_acc: 99.873\n",
      "val_loss: 0.16234 | val_acc: 95.238\n",
      "Best validation accuracy => saving model weights...\n",
      "-------------------------------------------\n",
      "Epoch 20/30: \n"
     ]
    },
    {
     "name": "stderr",
     "output_type": "stream",
     "text": [
      "100%|██████████| 1183/1183 [00:02<00:00, 559.00it/s]\n",
      "100%|██████████| 50/50 [00:00<00:00, 344.04it/s]\n",
      "  0%|          | 0/1183 [00:00<?, ?it/s]"
     ]
    },
    {
     "name": "stdout",
     "output_type": "stream",
     "text": [
      "train_loss: 0.00989 | train_acc: 99.884\n",
      "val_loss: 0.14598 | val_acc: 95.489\n",
      "Best validation accuracy => saving model weights...\n",
      "-------------------------------------------\n",
      "Epoch 21/30: \n"
     ]
    },
    {
     "name": "stderr",
     "output_type": "stream",
     "text": [
      "100%|██████████| 1183/1183 [00:02<00:00, 548.90it/s]\n",
      "100%|██████████| 50/50 [00:00<00:00, 343.53it/s]\n",
      "  0%|          | 0/1183 [00:00<?, ?it/s]"
     ]
    },
    {
     "name": "stdout",
     "output_type": "stream",
     "text": [
      "train_loss: 0.00824 | train_acc: 99.937\n",
      "val_loss: 0.14146 | val_acc: 94.987\n",
      "Patience = {patience}\n",
      "-------------------------------------------\n",
      "Epoch 22/30: \n"
     ]
    },
    {
     "name": "stderr",
     "output_type": "stream",
     "text": [
      "100%|██████████| 1183/1183 [00:02<00:00, 563.80it/s]\n",
      "100%|██████████| 50/50 [00:00<00:00, 323.40it/s]\n",
      "  0%|          | 0/1183 [00:00<?, ?it/s]"
     ]
    },
    {
     "name": "stdout",
     "output_type": "stream",
     "text": [
      "train_loss: 0.00627 | train_acc: 99.958\n",
      "val_loss: 0.14826 | val_acc: 94.612\n",
      "Patience = {patience}\n",
      "-------------------------------------------\n",
      "Epoch 23/30: \n"
     ]
    },
    {
     "name": "stderr",
     "output_type": "stream",
     "text": [
      "100%|██████████| 1183/1183 [00:02<00:00, 534.87it/s]\n",
      "100%|██████████| 50/50 [00:00<00:00, 350.46it/s]\n",
      "  0%|          | 0/1183 [00:00<?, ?it/s]"
     ]
    },
    {
     "name": "stdout",
     "output_type": "stream",
     "text": [
      "train_loss: 0.00622 | train_acc: 99.894\n",
      "val_loss: 0.14178 | val_acc: 95.113\n",
      "-------------------------------------------\n",
      "Epoch 24/30: \n"
     ]
    },
    {
     "name": "stderr",
     "output_type": "stream",
     "text": [
      "100%|██████████| 1183/1183 [00:02<00:00, 579.69it/s]\n",
      "100%|██████████| 50/50 [00:00<00:00, 347.21it/s]\n",
      "  0%|          | 0/1183 [00:00<?, ?it/s]"
     ]
    },
    {
     "name": "stdout",
     "output_type": "stream",
     "text": [
      "train_loss: 0.00472 | train_acc: 99.947\n",
      "val_loss: 0.15495 | val_acc: 95.363\n",
      "-------------------------------------------\n",
      "Epoch 25/30: \n"
     ]
    },
    {
     "name": "stderr",
     "output_type": "stream",
     "text": [
      "100%|██████████| 1183/1183 [00:02<00:00, 567.89it/s]\n",
      "100%|██████████| 50/50 [00:00<00:00, 334.24it/s]\n",
      "  0%|          | 0/1183 [00:00<?, ?it/s]"
     ]
    },
    {
     "name": "stdout",
     "output_type": "stream",
     "text": [
      "train_loss: 0.00420 | train_acc: 99.968\n",
      "val_loss: 0.15055 | val_acc: 95.865\n",
      "Best validation accuracy => saving model weights...\n",
      "-------------------------------------------\n",
      "Epoch 26/30: \n"
     ]
    },
    {
     "name": "stderr",
     "output_type": "stream",
     "text": [
      "100%|██████████| 1183/1183 [00:02<00:00, 553.42it/s]\n",
      "100%|██████████| 50/50 [00:00<00:00, 328.68it/s]\n",
      "  0%|          | 0/1183 [00:00<?, ?it/s]"
     ]
    },
    {
     "name": "stdout",
     "output_type": "stream",
     "text": [
      "train_loss: 0.00537 | train_acc: 99.926\n",
      "val_loss: 0.13746 | val_acc: 95.614\n",
      "Patience = {patience}\n",
      "-------------------------------------------\n",
      "Epoch 27/30: \n"
     ]
    },
    {
     "name": "stderr",
     "output_type": "stream",
     "text": [
      "100%|██████████| 1183/1183 [00:02<00:00, 575.22it/s]\n",
      "100%|██████████| 50/50 [00:00<00:00, 334.49it/s]\n",
      "  0%|          | 0/1183 [00:00<?, ?it/s]"
     ]
    },
    {
     "name": "stdout",
     "output_type": "stream",
     "text": [
      "train_loss: 0.00300 | train_acc: 99.979\n",
      "val_loss: 0.14495 | val_acc: 95.489\n",
      "Patience = {patience}\n",
      "-------------------------------------------\n",
      "Epoch 28/30: \n"
     ]
    },
    {
     "name": "stderr",
     "output_type": "stream",
     "text": [
      "100%|██████████| 1183/1183 [00:02<00:00, 550.44it/s]\n",
      "100%|██████████| 50/50 [00:00<00:00, 348.16it/s]"
     ]
    },
    {
     "name": "stdout",
     "output_type": "stream",
     "text": [
      "train_loss: 0.00422 | train_acc: 99.894\n",
      "val_loss: 0.14188 | val_acc: 95.363\n",
      "Patience = {patience}\n",
      "Early stopping.\n"
     ]
    },
    {
     "name": "stderr",
     "output_type": "stream",
     "text": [
      "\n"
     ]
    }
   ],
   "source": [
    "history = {'train_accs': [], 'train_losses': [], 'val_accs': [], 'val_losses': []}\n",
    "model.to(device)\n",
    "diff_threshold = 1.0E-3\n",
    "max_patience = 3\n",
    "patience = 0\n",
    "\n",
    "for epoch in range(1, n_epochs + 1):\n",
    "    print(f'Epoch {epoch}/{n_epochs}: ')\n",
    "    train_loss, train_acc = train_epoch(epoch, model, train_loader, criterion, optimizer, history['train_accs'], history['train_losses'])\n",
    "    val_loss, val_acc = val_epoch(epoch, model, val_loader, criterion, history['val_accs'], history['val_losses'])\n",
    "    \n",
    "    print('train_loss: %.5f | train_acc: %.3f' % (train_loss, train_acc))\n",
    "    print('val_loss: %.5f | val_acc: %.3f' % (val_loss, val_acc))\n",
    "    \n",
    "    if val_acc == max(history['val_accs']):\n",
    "        print('Best validation accuracy => saving model weights...')\n",
    "        torch.save(model.state_dict(), BEST_STATE_PATH)\n",
    "        # print('Best validation accuracy => saving model...')\n",
    "        # torch.save(model, BEST_MODEL_PATH)\n",
    "        \n",
    "    if len(history['val_accs']) > 1:\n",
    "        if abs(history['val_accs'][-2] - val_acc) < diff_threshold or history['val_accs'][-2] > val_acc:\n",
    "            patience = patience + 1\n",
    "            print('Patience = {patience}')\n",
    "            if patience == max_patience:\n",
    "                print('Early stopping.')\n",
    "                break\n",
    "        else:\n",
    "            patience = 0\n",
    "    print('-------------------------------------------')"
   ]
  },
  {
   "cell_type": "markdown",
   "metadata": {},
   "source": [
    "## Predict on a test set"
   ]
  },
  {
   "cell_type": "code",
   "execution_count": null,
   "metadata": {},
   "outputs": [
    {
     "name": "stdout",
     "output_type": "stream",
     "text": [
      "(tensor([0.0417, 0.0167, 0.0165,  ..., 0.4165, 0.8687, 0.9729]), tensor(33))\n",
      "Result not through softmax: 33\n",
      "Result passed through softmax: 33 with probability 0.9895638823509216\n"
     ]
    }
   ],
   "source": [
    "# Predict one sample\n",
    "rand = np.random.randint(0, len(test_dataset))\n",
    "sample = test_dataset[rand]\n",
    "print(sample)\n",
    "sample_feature = sample[0].detach().cpu().numpy()\n",
    "sample_feature = torch.tensor(sample_feature)\n",
    "sample_feature = sample_feature.to(device)\n",
    "\n",
    "# Check result\n",
    "result = model(sample_feature).detach().cpu().numpy()\n",
    "print(f'Result not through softmax: {np.argmax(result)}')\n",
    "\n",
    "# Add softmax for probability calculation\n",
    "softmax_result = nn.Softmax(dim=0)(torch.tensor(result)).detach().cpu().numpy()\n",
    "print(f'Result passed through softmax: {np.argmax(softmax_result)} with probability {softmax_result[np.argmax(softmax_result)]}')"
   ]
  },
  {
   "cell_type": "code",
   "execution_count": null,
   "metadata": {},
   "outputs": [
    {
     "name": "stdout",
     "output_type": "stream",
     "text": [
      "0.9716312056737588\n"
     ]
    }
   ],
   "source": [
    "# Predict on the whole test set\n",
    "test_correct = 0\n",
    "test_total = len(test_dataset)\n",
    "for index in range(test_total):\n",
    "    sample = test_dataset[index]\n",
    "    sample_feature = sample[0]\n",
    "    sample_label = sample[1]\n",
    "    sample_feature = sample_feature.to(device)\n",
    "    result = model(sample_feature).detach().cpu().numpy()\n",
    "    softmax_result = nn.Softmax(dim=0)(torch.tensor(result)).detach().cpu().numpy()\n",
    "    predict = np.argmax(softmax_result)\n",
    "    if predict == sample[1]:\n",
    "        test_correct += 1\n",
    "\n",
    "print(test_correct/test_total)"
   ]
  },
  {
   "cell_type": "markdown",
   "metadata": {},
   "source": [
    "# References"
   ]
  },
  {
   "cell_type": "markdown",
   "metadata": {},
   "source": [
    "\\[1\\]: [Is One-Hot Encoding required for using PyTorch's Cross Entropy Loss Function?](https://stackoverflow.com/questions/62456558/is-one-hot-encoding-required-for-using-pytorchs-cross-entropy-loss-function)\n",
    "\n",
    "\\[2\\]: [PCA — how to choose the number of components?](https://www.mikulskibartosz.name/pca-how-to-choose-the-number-of-components/)\n",
    "\n",
    "\\[3\\]: [Change weight decay during training](https://discuss.pytorch.org/t/change-weight-decay-during-training/70377/3)"
   ]
  }
 ],
 "metadata": {
  "interpreter": {
   "hash": "f1a95063673afb40ff742ea38932ca37761c5e5b95ffd28e8b29d2c50499cde7"
  },
  "kernelspec": {
   "display_name": "Python 3.8.5 ('base')",
   "language": "python",
   "name": "python3"
  },
  "language_info": {
   "codemirror_mode": {
    "name": "ipython",
    "version": 3
   },
   "file_extension": ".py",
   "mimetype": "text/x-python",
   "name": "python",
   "nbconvert_exporter": "python",
   "pygments_lexer": "ipython3",
   "version": "3.8.5"
  },
  "orig_nbformat": 4
 },
 "nbformat": 4,
 "nbformat_minor": 2
}
